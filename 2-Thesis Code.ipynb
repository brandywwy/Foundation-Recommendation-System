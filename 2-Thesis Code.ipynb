{
 "cells": [
  {
   "cell_type": "markdown",
   "metadata": {},
   "source": [
    "### Required Packages"
   ]
  },
  {
   "cell_type": "code",
   "execution_count": 2,
   "metadata": {},
   "outputs": [],
   "source": [
    "# Packages\n",
    "import numpy as np\n",
    "import pandas as pd\n",
    "from sklearn.preprocessing import LabelEncoder\n",
    "from nltk.sentiment.vader import SentimentIntensityAnalyzer\n",
    "from sklearn.feature_extraction.text import TfidfVectorizer\n",
    "from nltk.corpus import stopwords\n",
    "import matplotlib.pyplot as plt\n",
    "import seaborn as sns\n",
    "from sklearn.model_selection import train_test_split\n",
    "from imblearn.under_sampling import RandomUnderSampler\n",
    "from sklearn.linear_model import LinearRegression\n",
    "from sklearn.model_selection import StratifiedKFold\n",
    "from sklearn.feature_selection import RFECV\n",
    "from sklearn.linear_model import LogisticRegression\n",
    "from sklearn.model_selection import GridSearchCV\n",
    "from sklearn.metrics import confusion_matrix\n",
    "from sklearn.metrics import classification_report\n",
    "from sklearn.metrics import accuracy_score\n",
    "from sklearn.metrics import roc_curve\n",
    "from sklearn.metrics import auc\n",
    "from sklearn.ensemble import BaggingClassifier\n",
    "from sklearn.svm import SVC\n",
    "from sklearn.ensemble import RandomForestClassifier\n",
    "from keras.models import Sequential\n",
    "from keras.layers import Dense\n",
    "from keras.wrappers.scikit_learn import KerasClassifier\n",
    "from keras.optimizers import SGD\n",
    "from keras.utils import to_categorical"
   ]
  },
  {
   "cell_type": "markdown",
   "metadata": {},
   "source": [
    "### Load the Data"
   ]
  },
  {
   "cell_type": "code",
   "execution_count": 3,
   "metadata": {},
   "outputs": [],
   "source": [
    "# read in the data\n",
    "df = pd.read_csv('sephora_reviews_final.csv')"
   ]
  },
  {
   "cell_type": "code",
   "execution_count": 4,
   "metadata": {},
   "outputs": [
    {
     "data": {
      "text/html": [
       "<div>\n",
       "<style scoped>\n",
       "    .dataframe tbody tr th:only-of-type {\n",
       "        vertical-align: middle;\n",
       "    }\n",
       "\n",
       "    .dataframe tbody tr th {\n",
       "        vertical-align: top;\n",
       "    }\n",
       "\n",
       "    .dataframe thead th {\n",
       "        text-align: right;\n",
       "    }\n",
       "</style>\n",
       "<table border=\"1\" class=\"dataframe\">\n",
       "  <thead>\n",
       "    <tr style=\"text-align: right;\">\n",
       "      <th></th>\n",
       "      <th>brand</th>\n",
       "      <th>name</th>\n",
       "      <th>product_id</th>\n",
       "      <th>coverage</th>\n",
       "      <th>finish</th>\n",
       "      <th>formulation</th>\n",
       "      <th>normal_skin</th>\n",
       "      <th>oily_skin</th>\n",
       "      <th>combo_skin</th>\n",
       "      <th>dry_skin</th>\n",
       "      <th>...</th>\n",
       "      <th>age</th>\n",
       "      <th>beauty_insider</th>\n",
       "      <th>price</th>\n",
       "      <th>first_submission_date</th>\n",
       "      <th>last_submission_date</th>\n",
       "      <th>location</th>\n",
       "      <th>incentivized_review</th>\n",
       "      <th>review_text</th>\n",
       "      <th>brand_image_url</th>\n",
       "      <th>product_image_url</th>\n",
       "    </tr>\n",
       "  </thead>\n",
       "  <tbody>\n",
       "    <tr>\n",
       "      <th>0</th>\n",
       "      <td>FENTY BEAUTY by Rihanna</td>\n",
       "      <td>Pro Filt'r Soft Matte Longwear Foundation</td>\n",
       "      <td>P87985432</td>\n",
       "      <td>Medium</td>\n",
       "      <td>Matte</td>\n",
       "      <td>Liquid</td>\n",
       "      <td>True</td>\n",
       "      <td>True</td>\n",
       "      <td>True</td>\n",
       "      <td>True</td>\n",
       "      <td>...</td>\n",
       "      <td>NaN</td>\n",
       "      <td>NaN</td>\n",
       "      <td>34.0</td>\n",
       "      <td>2018-01-06 01:04:26</td>\n",
       "      <td>2018-12-08 05:44:51</td>\n",
       "      <td>NaN</td>\n",
       "      <td>NaN</td>\n",
       "      <td>Really good foundation I like it a lot but som...</td>\n",
       "      <td>/contentimages/brands/fentybeauty/logo.jpg</td>\n",
       "      <td>https://www.sephora.com/productimages/sku/s192...</td>\n",
       "    </tr>\n",
       "    <tr>\n",
       "      <th>1</th>\n",
       "      <td>FENTY BEAUTY by Rihanna</td>\n",
       "      <td>Pro Filt'r Soft Matte Longwear Foundation</td>\n",
       "      <td>P87985432</td>\n",
       "      <td>Medium</td>\n",
       "      <td>Matte</td>\n",
       "      <td>Liquid</td>\n",
       "      <td>True</td>\n",
       "      <td>True</td>\n",
       "      <td>True</td>\n",
       "      <td>True</td>\n",
       "      <td>...</td>\n",
       "      <td>NaN</td>\n",
       "      <td>NaN</td>\n",
       "      <td>34.0</td>\n",
       "      <td>2018-10-19 00:29:37</td>\n",
       "      <td>2018-12-07 15:16:13</td>\n",
       "      <td>NaN</td>\n",
       "      <td>NaN</td>\n",
       "      <td>As someone who is very VERY fair, I have alway...</td>\n",
       "      <td>/contentimages/brands/fentybeauty/logo.jpg</td>\n",
       "      <td>https://www.sephora.com/productimages/sku/s192...</td>\n",
       "    </tr>\n",
       "    <tr>\n",
       "      <th>2</th>\n",
       "      <td>FENTY BEAUTY by Rihanna</td>\n",
       "      <td>Pro Filt'r Soft Matte Longwear Foundation</td>\n",
       "      <td>P87985432</td>\n",
       "      <td>Medium</td>\n",
       "      <td>Matte</td>\n",
       "      <td>Liquid</td>\n",
       "      <td>True</td>\n",
       "      <td>True</td>\n",
       "      <td>True</td>\n",
       "      <td>True</td>\n",
       "      <td>...</td>\n",
       "      <td>NaN</td>\n",
       "      <td>NaN</td>\n",
       "      <td>34.0</td>\n",
       "      <td>2018-02-05 21:40:40</td>\n",
       "      <td>2018-12-08 19:07:33</td>\n",
       "      <td>NaN</td>\n",
       "      <td>NaN</td>\n",
       "      <td>First purchase of a foundation of any kind. Wa...</td>\n",
       "      <td>/contentimages/brands/fentybeauty/logo.jpg</td>\n",
       "      <td>https://www.sephora.com/productimages/sku/s192...</td>\n",
       "    </tr>\n",
       "    <tr>\n",
       "      <th>3</th>\n",
       "      <td>FENTY BEAUTY by Rihanna</td>\n",
       "      <td>Pro Filt'r Soft Matte Longwear Foundation</td>\n",
       "      <td>P87985432</td>\n",
       "      <td>Medium</td>\n",
       "      <td>Matte</td>\n",
       "      <td>Liquid</td>\n",
       "      <td>True</td>\n",
       "      <td>True</td>\n",
       "      <td>True</td>\n",
       "      <td>True</td>\n",
       "      <td>...</td>\n",
       "      <td>NaN</td>\n",
       "      <td>NaN</td>\n",
       "      <td>34.0</td>\n",
       "      <td>2018-05-09 00:32:04</td>\n",
       "      <td>2018-12-03 09:54:03</td>\n",
       "      <td>NaN</td>\n",
       "      <td>NaN</td>\n",
       "      <td>I absolutely love this foundation! I get compl...</td>\n",
       "      <td>/contentimages/brands/fentybeauty/logo.jpg</td>\n",
       "      <td>https://www.sephora.com/productimages/sku/s192...</td>\n",
       "    </tr>\n",
       "    <tr>\n",
       "      <th>4</th>\n",
       "      <td>FENTY BEAUTY by Rihanna</td>\n",
       "      <td>Pro Filt'r Soft Matte Longwear Foundation</td>\n",
       "      <td>P87985432</td>\n",
       "      <td>Medium</td>\n",
       "      <td>Matte</td>\n",
       "      <td>Liquid</td>\n",
       "      <td>True</td>\n",
       "      <td>True</td>\n",
       "      <td>True</td>\n",
       "      <td>True</td>\n",
       "      <td>...</td>\n",
       "      <td>NaN</td>\n",
       "      <td>NaN</td>\n",
       "      <td>34.0</td>\n",
       "      <td>2018-12-03 00:40:58</td>\n",
       "      <td>2018-12-06 02:32:21</td>\n",
       "      <td>NaN</td>\n",
       "      <td>NaN</td>\n",
       "      <td>Love this foundation! I was using Too Faced Bo...</td>\n",
       "      <td>/contentimages/brands/fentybeauty/logo.jpg</td>\n",
       "      <td>https://www.sephora.com/productimages/sku/s192...</td>\n",
       "    </tr>\n",
       "  </tbody>\n",
       "</table>\n",
       "<p>5 rows × 28 columns</p>\n",
       "</div>"
      ],
      "text/plain": [
       "                     brand                                       name  \\\n",
       "0  FENTY BEAUTY by Rihanna  Pro Filt'r Soft Matte Longwear Foundation   \n",
       "1  FENTY BEAUTY by Rihanna  Pro Filt'r Soft Matte Longwear Foundation   \n",
       "2  FENTY BEAUTY by Rihanna  Pro Filt'r Soft Matte Longwear Foundation   \n",
       "3  FENTY BEAUTY by Rihanna  Pro Filt'r Soft Matte Longwear Foundation   \n",
       "4  FENTY BEAUTY by Rihanna  Pro Filt'r Soft Matte Longwear Foundation   \n",
       "\n",
       "  product_id coverage finish formulation  normal_skin  oily_skin  combo_skin  \\\n",
       "0  P87985432   Medium  Matte      Liquid         True       True        True   \n",
       "1  P87985432   Medium  Matte      Liquid         True       True        True   \n",
       "2  P87985432   Medium  Matte      Liquid         True       True        True   \n",
       "3  P87985432   Medium  Matte      Liquid         True       True        True   \n",
       "4  P87985432   Medium  Matte      Liquid         True       True        True   \n",
       "\n",
       "   dry_skin                        ...                          age  \\\n",
       "0      True                        ...                          NaN   \n",
       "1      True                        ...                          NaN   \n",
       "2      True                        ...                          NaN   \n",
       "3      True                        ...                          NaN   \n",
       "4      True                        ...                          NaN   \n",
       "\n",
       "  beauty_insider  price first_submission_date last_submission_date location  \\\n",
       "0            NaN   34.0   2018-01-06 01:04:26  2018-12-08 05:44:51      NaN   \n",
       "1            NaN   34.0   2018-10-19 00:29:37  2018-12-07 15:16:13      NaN   \n",
       "2            NaN   34.0   2018-02-05 21:40:40  2018-12-08 19:07:33      NaN   \n",
       "3            NaN   34.0   2018-05-09 00:32:04  2018-12-03 09:54:03      NaN   \n",
       "4            NaN   34.0   2018-12-03 00:40:58  2018-12-06 02:32:21      NaN   \n",
       "\n",
       "  incentivized_review                                        review_text  \\\n",
       "0                 NaN  Really good foundation I like it a lot but som...   \n",
       "1                 NaN  As someone who is very VERY fair, I have alway...   \n",
       "2                 NaN  First purchase of a foundation of any kind. Wa...   \n",
       "3                 NaN  I absolutely love this foundation! I get compl...   \n",
       "4                 NaN  Love this foundation! I was using Too Faced Bo...   \n",
       "\n",
       "                              brand_image_url  \\\n",
       "0  /contentimages/brands/fentybeauty/logo.jpg   \n",
       "1  /contentimages/brands/fentybeauty/logo.jpg   \n",
       "2  /contentimages/brands/fentybeauty/logo.jpg   \n",
       "3  /contentimages/brands/fentybeauty/logo.jpg   \n",
       "4  /contentimages/brands/fentybeauty/logo.jpg   \n",
       "\n",
       "                                   product_image_url  \n",
       "0  https://www.sephora.com/productimages/sku/s192...  \n",
       "1  https://www.sephora.com/productimages/sku/s192...  \n",
       "2  https://www.sephora.com/productimages/sku/s192...  \n",
       "3  https://www.sephora.com/productimages/sku/s192...  \n",
       "4  https://www.sephora.com/productimages/sku/s192...  \n",
       "\n",
       "[5 rows x 28 columns]"
      ]
     },
     "execution_count": 4,
     "metadata": {},
     "output_type": "execute_result"
    }
   ],
   "source": [
    "# data Overview\n",
    "df.head()"
   ]
  },
  {
   "cell_type": "code",
   "execution_count": 5,
   "metadata": {},
   "outputs": [
    {
     "data": {
      "text/plain": [
       "['brand',\n",
       " 'name',\n",
       " 'product_id',\n",
       " 'coverage',\n",
       " 'finish',\n",
       " 'formulation',\n",
       " 'normal_skin',\n",
       " 'oily_skin',\n",
       " 'combo_skin',\n",
       " 'dry_skin',\n",
       " 'SPF',\n",
       " 'user_name',\n",
       " 'rating',\n",
       " 'recommended',\n",
       " 'skin_type',\n",
       " 'eye_color',\n",
       " 'skin_tone',\n",
       " 'skin_concerns',\n",
       " 'age',\n",
       " 'beauty_insider',\n",
       " 'price',\n",
       " 'first_submission_date',\n",
       " 'last_submission_date',\n",
       " 'location',\n",
       " 'incentivized_review',\n",
       " 'review_text',\n",
       " 'brand_image_url',\n",
       " 'product_image_url']"
      ]
     },
     "execution_count": 5,
     "metadata": {},
     "output_type": "execute_result"
    }
   ],
   "source": [
    "# list column names\n",
    "list(df.columns)"
   ]
  },
  {
   "cell_type": "code",
   "execution_count": 6,
   "metadata": {},
   "outputs": [],
   "source": [
    "# drop the columns that is unnecessary\n",
    "df = df[df.columns[~df.columns.isin(['first_submission_date','last_submission_date','brand_image_url','product_image_url'])]]"
   ]
  },
  {
   "cell_type": "code",
   "execution_count": 7,
   "metadata": {},
   "outputs": [
    {
     "data": {
      "text/html": [
       "<div>\n",
       "<style scoped>\n",
       "    .dataframe tbody tr th:only-of-type {\n",
       "        vertical-align: middle;\n",
       "    }\n",
       "\n",
       "    .dataframe tbody tr th {\n",
       "        vertical-align: top;\n",
       "    }\n",
       "\n",
       "    .dataframe thead th {\n",
       "        text-align: right;\n",
       "    }\n",
       "</style>\n",
       "<table border=\"1\" class=\"dataframe\">\n",
       "  <thead>\n",
       "    <tr style=\"text-align: right;\">\n",
       "      <th></th>\n",
       "      <th>brand</th>\n",
       "      <th>name</th>\n",
       "      <th>product_id</th>\n",
       "      <th>coverage</th>\n",
       "      <th>finish</th>\n",
       "      <th>formulation</th>\n",
       "      <th>normal_skin</th>\n",
       "      <th>oily_skin</th>\n",
       "      <th>combo_skin</th>\n",
       "      <th>dry_skin</th>\n",
       "      <th>...</th>\n",
       "      <th>skin_type</th>\n",
       "      <th>eye_color</th>\n",
       "      <th>skin_tone</th>\n",
       "      <th>skin_concerns</th>\n",
       "      <th>age</th>\n",
       "      <th>beauty_insider</th>\n",
       "      <th>price</th>\n",
       "      <th>location</th>\n",
       "      <th>incentivized_review</th>\n",
       "      <th>review_text</th>\n",
       "    </tr>\n",
       "  </thead>\n",
       "  <tbody>\n",
       "    <tr>\n",
       "      <th>0</th>\n",
       "      <td>FENTY BEAUTY by Rihanna</td>\n",
       "      <td>Pro Filt'r Soft Matte Longwear Foundation</td>\n",
       "      <td>P87985432</td>\n",
       "      <td>Medium</td>\n",
       "      <td>Matte</td>\n",
       "      <td>Liquid</td>\n",
       "      <td>True</td>\n",
       "      <td>True</td>\n",
       "      <td>True</td>\n",
       "      <td>True</td>\n",
       "      <td>...</td>\n",
       "      <td>oily</td>\n",
       "      <td>brown</td>\n",
       "      <td>tan</td>\n",
       "      <td>acne</td>\n",
       "      <td>NaN</td>\n",
       "      <td>NaN</td>\n",
       "      <td>34.0</td>\n",
       "      <td>NaN</td>\n",
       "      <td>NaN</td>\n",
       "      <td>Really good foundation I like it a lot but som...</td>\n",
       "    </tr>\n",
       "    <tr>\n",
       "      <th>1</th>\n",
       "      <td>FENTY BEAUTY by Rihanna</td>\n",
       "      <td>Pro Filt'r Soft Matte Longwear Foundation</td>\n",
       "      <td>P87985432</td>\n",
       "      <td>Medium</td>\n",
       "      <td>Matte</td>\n",
       "      <td>Liquid</td>\n",
       "      <td>True</td>\n",
       "      <td>True</td>\n",
       "      <td>True</td>\n",
       "      <td>True</td>\n",
       "      <td>...</td>\n",
       "      <td>combination</td>\n",
       "      <td>brown</td>\n",
       "      <td>porcelain</td>\n",
       "      <td>acne</td>\n",
       "      <td>NaN</td>\n",
       "      <td>NaN</td>\n",
       "      <td>34.0</td>\n",
       "      <td>NaN</td>\n",
       "      <td>NaN</td>\n",
       "      <td>As someone who is very VERY fair, I have alway...</td>\n",
       "    </tr>\n",
       "    <tr>\n",
       "      <th>2</th>\n",
       "      <td>FENTY BEAUTY by Rihanna</td>\n",
       "      <td>Pro Filt'r Soft Matte Longwear Foundation</td>\n",
       "      <td>P87985432</td>\n",
       "      <td>Medium</td>\n",
       "      <td>Matte</td>\n",
       "      <td>Liquid</td>\n",
       "      <td>True</td>\n",
       "      <td>True</td>\n",
       "      <td>True</td>\n",
       "      <td>True</td>\n",
       "      <td>...</td>\n",
       "      <td>combination</td>\n",
       "      <td>brown</td>\n",
       "      <td>dark</td>\n",
       "      <td>darkCircles</td>\n",
       "      <td>NaN</td>\n",
       "      <td>NaN</td>\n",
       "      <td>34.0</td>\n",
       "      <td>NaN</td>\n",
       "      <td>NaN</td>\n",
       "      <td>First purchase of a foundation of any kind. Wa...</td>\n",
       "    </tr>\n",
       "    <tr>\n",
       "      <th>3</th>\n",
       "      <td>FENTY BEAUTY by Rihanna</td>\n",
       "      <td>Pro Filt'r Soft Matte Longwear Foundation</td>\n",
       "      <td>P87985432</td>\n",
       "      <td>Medium</td>\n",
       "      <td>Matte</td>\n",
       "      <td>Liquid</td>\n",
       "      <td>True</td>\n",
       "      <td>True</td>\n",
       "      <td>True</td>\n",
       "      <td>True</td>\n",
       "      <td>...</td>\n",
       "      <td>combination</td>\n",
       "      <td>brown</td>\n",
       "      <td>dark</td>\n",
       "      <td>acne</td>\n",
       "      <td>NaN</td>\n",
       "      <td>NaN</td>\n",
       "      <td>34.0</td>\n",
       "      <td>NaN</td>\n",
       "      <td>NaN</td>\n",
       "      <td>I absolutely love this foundation! I get compl...</td>\n",
       "    </tr>\n",
       "    <tr>\n",
       "      <th>4</th>\n",
       "      <td>FENTY BEAUTY by Rihanna</td>\n",
       "      <td>Pro Filt'r Soft Matte Longwear Foundation</td>\n",
       "      <td>P87985432</td>\n",
       "      <td>Medium</td>\n",
       "      <td>Matte</td>\n",
       "      <td>Liquid</td>\n",
       "      <td>True</td>\n",
       "      <td>True</td>\n",
       "      <td>True</td>\n",
       "      <td>True</td>\n",
       "      <td>...</td>\n",
       "      <td>combination</td>\n",
       "      <td>green</td>\n",
       "      <td>fair</td>\n",
       "      <td>darkCircles</td>\n",
       "      <td>NaN</td>\n",
       "      <td>NaN</td>\n",
       "      <td>34.0</td>\n",
       "      <td>NaN</td>\n",
       "      <td>NaN</td>\n",
       "      <td>Love this foundation! I was using Too Faced Bo...</td>\n",
       "    </tr>\n",
       "  </tbody>\n",
       "</table>\n",
       "<p>5 rows × 24 columns</p>\n",
       "</div>"
      ],
      "text/plain": [
       "                     brand                                       name  \\\n",
       "0  FENTY BEAUTY by Rihanna  Pro Filt'r Soft Matte Longwear Foundation   \n",
       "1  FENTY BEAUTY by Rihanna  Pro Filt'r Soft Matte Longwear Foundation   \n",
       "2  FENTY BEAUTY by Rihanna  Pro Filt'r Soft Matte Longwear Foundation   \n",
       "3  FENTY BEAUTY by Rihanna  Pro Filt'r Soft Matte Longwear Foundation   \n",
       "4  FENTY BEAUTY by Rihanna  Pro Filt'r Soft Matte Longwear Foundation   \n",
       "\n",
       "  product_id coverage finish formulation  normal_skin  oily_skin  combo_skin  \\\n",
       "0  P87985432   Medium  Matte      Liquid         True       True        True   \n",
       "1  P87985432   Medium  Matte      Liquid         True       True        True   \n",
       "2  P87985432   Medium  Matte      Liquid         True       True        True   \n",
       "3  P87985432   Medium  Matte      Liquid         True       True        True   \n",
       "4  P87985432   Medium  Matte      Liquid         True       True        True   \n",
       "\n",
       "   dry_skin                        ...                            skin_type  \\\n",
       "0      True                        ...                                 oily   \n",
       "1      True                        ...                          combination   \n",
       "2      True                        ...                          combination   \n",
       "3      True                        ...                          combination   \n",
       "4      True                        ...                          combination   \n",
       "\n",
       "  eye_color  skin_tone skin_concerns  age beauty_insider price location  \\\n",
       "0     brown        tan          acne  NaN            NaN  34.0      NaN   \n",
       "1     brown  porcelain          acne  NaN            NaN  34.0      NaN   \n",
       "2     brown       dark   darkCircles  NaN            NaN  34.0      NaN   \n",
       "3     brown       dark          acne  NaN            NaN  34.0      NaN   \n",
       "4     green       fair   darkCircles  NaN            NaN  34.0      NaN   \n",
       "\n",
       "  incentivized_review                                        review_text  \n",
       "0                 NaN  Really good foundation I like it a lot but som...  \n",
       "1                 NaN  As someone who is very VERY fair, I have alway...  \n",
       "2                 NaN  First purchase of a foundation of any kind. Wa...  \n",
       "3                 NaN  I absolutely love this foundation! I get compl...  \n",
       "4                 NaN  Love this foundation! I was using Too Faced Bo...  \n",
       "\n",
       "[5 rows x 24 columns]"
      ]
     },
     "execution_count": 7,
     "metadata": {},
     "output_type": "execute_result"
    }
   ],
   "source": [
    "df.head()"
   ]
  },
  {
   "cell_type": "code",
   "execution_count": 8,
   "metadata": {},
   "outputs": [
    {
     "data": {
      "text/plain": [
       "(275950, 24)"
      ]
     },
     "execution_count": 8,
     "metadata": {},
     "output_type": "execute_result"
    }
   ],
   "source": [
    "# dimension of the dataset\n",
    "df.shape"
   ]
  },
  {
   "cell_type": "markdown",
   "metadata": {},
   "source": [
    "## 1. Data Pre-Processing"
   ]
  },
  {
   "cell_type": "markdown",
   "metadata": {},
   "source": [
    "### 1.1 Missing Data"
   ]
  },
  {
   "cell_type": "code",
   "execution_count": 9,
   "metadata": {},
   "outputs": [
    {
     "data": {
      "text/plain": [
       "skin_concerns          0.743196\n",
       "incentivized_review    0.712183\n",
       "recommended            0.703907\n",
       "beauty_insider         0.597793\n",
       "location               0.587683\n",
       "age                    0.566784\n",
       "skin_type              0.513089\n",
       "formulation            0.440852\n",
       "eye_color              0.356782\n",
       "skin_tone              0.337391\n",
       "finish                 0.321986\n",
       "coverage               0.318268\n",
       "user_name              0.010654\n",
       "normal_skin            0.000000\n",
       "name                   0.000000\n",
       "product_id             0.000000\n",
       "review_text            0.000000\n",
       "oily_skin              0.000000\n",
       "combo_skin             0.000000\n",
       "dry_skin               0.000000\n",
       "SPF                    0.000000\n",
       "rating                 0.000000\n",
       "price                  0.000000\n",
       "brand                  0.000000\n",
       "dtype: float64"
      ]
     },
     "execution_count": 9,
     "metadata": {},
     "output_type": "execute_result"
    }
   ],
   "source": [
    "# calculate the percentage of missing data in each column\n",
    "(df.isnull().sum() / len(df)).sort_values(ascending=False)"
   ]
  },
  {
   "cell_type": "code",
   "execution_count": 10,
   "metadata": {},
   "outputs": [
    {
     "data": {
      "text/plain": [
       "(81707, 24)"
      ]
     },
     "execution_count": 10,
     "metadata": {},
     "output_type": "execute_result"
    }
   ],
   "source": [
    "# drop the rows that has NA in \"recommended\"\n",
    "df = df[pd.notnull(df['recommended'])]\n",
    "df.shape"
   ]
  },
  {
   "cell_type": "code",
   "execution_count": 11,
   "metadata": {},
   "outputs": [
    {
     "data": {
      "text/plain": [
       "location               1.000000\n",
       "beauty_insider         1.000000\n",
       "incentivized_review    1.000000\n",
       "age                    0.896459\n",
       "formulation            0.474464\n",
       "finish                 0.355245\n",
       "coverage               0.354486\n",
       "skin_concerns          0.132694\n",
       "eye_color              0.068268\n",
       "skin_tone              0.047377\n",
       "skin_type              0.046459\n",
       "user_name              0.004639\n",
       "oily_skin              0.000000\n",
       "name                   0.000000\n",
       "product_id             0.000000\n",
       "normal_skin            0.000000\n",
       "review_text            0.000000\n",
       "combo_skin             0.000000\n",
       "dry_skin               0.000000\n",
       "SPF                    0.000000\n",
       "rating                 0.000000\n",
       "recommended            0.000000\n",
       "price                  0.000000\n",
       "brand                  0.000000\n",
       "dtype: float64"
      ]
     },
     "execution_count": 11,
     "metadata": {},
     "output_type": "execute_result"
    }
   ],
   "source": [
    "# percentage of missing data in each column after removing the missing data in \"recommended\"\n",
    "(df.isnull().sum() / len(df)).sort_values(ascending=False)"
   ]
  },
  {
   "cell_type": "code",
   "execution_count": 12,
   "metadata": {},
   "outputs": [],
   "source": [
    "# remove the columns that has no data\n",
    "df = df[df.columns[~df.columns.isin(['location','beauty_insider','incentivized_review','user_name'])]]"
   ]
  },
  {
   "cell_type": "code",
   "execution_count": 13,
   "metadata": {},
   "outputs": [],
   "source": [
    "# fill the NA with mode\n",
    "cols = ['age','formulation','finish','coverage','skin_concerns','eye_color','skin_tone','skin_type']\n",
    "df[cols]=df[cols].fillna(df.mode().iloc[0])"
   ]
  },
  {
   "cell_type": "markdown",
   "metadata": {},
   "source": [
    "### 1.2 Recoding"
   ]
  },
  {
   "cell_type": "code",
   "execution_count": 14,
   "metadata": {},
   "outputs": [],
   "source": [
    "# select the boolean variables\n",
    "boolean_cols = ['normal_skin','oily_skin','combo_skin','dry_skin','SPF','recommended']\n",
    "\n",
    "# recode as 1 and 0\n",
    "le = LabelEncoder()\n",
    "df[boolean_cols] = df[boolean_cols].apply(lambda col: le.fit_transform(col))"
   ]
  },
  {
   "cell_type": "code",
   "execution_count": 15,
   "metadata": {},
   "outputs": [],
   "source": [
    "# label encode the age column\n",
    "le.fit(df['age'])\n",
    "df['age'] = le.transform(df['age']) "
   ]
  },
  {
   "cell_type": "code",
   "execution_count": 16,
   "metadata": {},
   "outputs": [],
   "source": [
    "# select the categorical variables\n",
    "categorical_cols = ['finish','formulation','coverage','skin_type','eye_color','skin_tone','skin_concerns']\n",
    "\n",
    "# apply one hot encoding\n",
    "categorical_dummies = pd.get_dummies(df[categorical_cols])"
   ]
  },
  {
   "cell_type": "code",
   "execution_count": 17,
   "metadata": {},
   "outputs": [
    {
     "data": {
      "text/html": [
       "<div>\n",
       "<style scoped>\n",
       "    .dataframe tbody tr th:only-of-type {\n",
       "        vertical-align: middle;\n",
       "    }\n",
       "\n",
       "    .dataframe tbody tr th {\n",
       "        vertical-align: top;\n",
       "    }\n",
       "\n",
       "    .dataframe thead th {\n",
       "        text-align: right;\n",
       "    }\n",
       "</style>\n",
       "<table border=\"1\" class=\"dataframe\">\n",
       "  <thead>\n",
       "    <tr style=\"text-align: right;\">\n",
       "      <th></th>\n",
       "      <th>brand</th>\n",
       "      <th>name</th>\n",
       "      <th>product_id</th>\n",
       "      <th>normal_skin</th>\n",
       "      <th>oily_skin</th>\n",
       "      <th>combo_skin</th>\n",
       "      <th>dry_skin</th>\n",
       "      <th>SPF</th>\n",
       "      <th>rating</th>\n",
       "      <th>recommended</th>\n",
       "      <th>...</th>\n",
       "      <th>skin_concerns_cuticles</th>\n",
       "      <th>skin_concerns_darkCircles</th>\n",
       "      <th>skin_concerns_dullness</th>\n",
       "      <th>skin_concerns_pores</th>\n",
       "      <th>skin_concerns_puffiness</th>\n",
       "      <th>skin_concerns_redness</th>\n",
       "      <th>skin_concerns_sensitivity</th>\n",
       "      <th>skin_concerns_stretchMarks</th>\n",
       "      <th>skin_concerns_sunDamage</th>\n",
       "      <th>skin_concerns_unevenSkinTones</th>\n",
       "    </tr>\n",
       "  </thead>\n",
       "  <tbody>\n",
       "    <tr>\n",
       "      <th>0</th>\n",
       "      <td>FENTY BEAUTY by Rihanna</td>\n",
       "      <td>Pro Filt'r Soft Matte Longwear Foundation</td>\n",
       "      <td>P87985432</td>\n",
       "      <td>1</td>\n",
       "      <td>1</td>\n",
       "      <td>1</td>\n",
       "      <td>1</td>\n",
       "      <td>0</td>\n",
       "      <td>4</td>\n",
       "      <td>1</td>\n",
       "      <td>...</td>\n",
       "      <td>0</td>\n",
       "      <td>0</td>\n",
       "      <td>0</td>\n",
       "      <td>0</td>\n",
       "      <td>0</td>\n",
       "      <td>0</td>\n",
       "      <td>0</td>\n",
       "      <td>0</td>\n",
       "      <td>0</td>\n",
       "      <td>0</td>\n",
       "    </tr>\n",
       "    <tr>\n",
       "      <th>1</th>\n",
       "      <td>FENTY BEAUTY by Rihanna</td>\n",
       "      <td>Pro Filt'r Soft Matte Longwear Foundation</td>\n",
       "      <td>P87985432</td>\n",
       "      <td>1</td>\n",
       "      <td>1</td>\n",
       "      <td>1</td>\n",
       "      <td>1</td>\n",
       "      <td>0</td>\n",
       "      <td>5</td>\n",
       "      <td>1</td>\n",
       "      <td>...</td>\n",
       "      <td>0</td>\n",
       "      <td>0</td>\n",
       "      <td>0</td>\n",
       "      <td>0</td>\n",
       "      <td>0</td>\n",
       "      <td>0</td>\n",
       "      <td>0</td>\n",
       "      <td>0</td>\n",
       "      <td>0</td>\n",
       "      <td>0</td>\n",
       "    </tr>\n",
       "    <tr>\n",
       "      <th>2</th>\n",
       "      <td>FENTY BEAUTY by Rihanna</td>\n",
       "      <td>Pro Filt'r Soft Matte Longwear Foundation</td>\n",
       "      <td>P87985432</td>\n",
       "      <td>1</td>\n",
       "      <td>1</td>\n",
       "      <td>1</td>\n",
       "      <td>1</td>\n",
       "      <td>0</td>\n",
       "      <td>5</td>\n",
       "      <td>1</td>\n",
       "      <td>...</td>\n",
       "      <td>0</td>\n",
       "      <td>1</td>\n",
       "      <td>0</td>\n",
       "      <td>0</td>\n",
       "      <td>0</td>\n",
       "      <td>0</td>\n",
       "      <td>0</td>\n",
       "      <td>0</td>\n",
       "      <td>0</td>\n",
       "      <td>0</td>\n",
       "    </tr>\n",
       "    <tr>\n",
       "      <th>3</th>\n",
       "      <td>FENTY BEAUTY by Rihanna</td>\n",
       "      <td>Pro Filt'r Soft Matte Longwear Foundation</td>\n",
       "      <td>P87985432</td>\n",
       "      <td>1</td>\n",
       "      <td>1</td>\n",
       "      <td>1</td>\n",
       "      <td>1</td>\n",
       "      <td>0</td>\n",
       "      <td>5</td>\n",
       "      <td>1</td>\n",
       "      <td>...</td>\n",
       "      <td>0</td>\n",
       "      <td>0</td>\n",
       "      <td>0</td>\n",
       "      <td>0</td>\n",
       "      <td>0</td>\n",
       "      <td>0</td>\n",
       "      <td>0</td>\n",
       "      <td>0</td>\n",
       "      <td>0</td>\n",
       "      <td>0</td>\n",
       "    </tr>\n",
       "    <tr>\n",
       "      <th>4</th>\n",
       "      <td>FENTY BEAUTY by Rihanna</td>\n",
       "      <td>Pro Filt'r Soft Matte Longwear Foundation</td>\n",
       "      <td>P87985432</td>\n",
       "      <td>1</td>\n",
       "      <td>1</td>\n",
       "      <td>1</td>\n",
       "      <td>1</td>\n",
       "      <td>0</td>\n",
       "      <td>5</td>\n",
       "      <td>1</td>\n",
       "      <td>...</td>\n",
       "      <td>0</td>\n",
       "      <td>1</td>\n",
       "      <td>0</td>\n",
       "      <td>0</td>\n",
       "      <td>0</td>\n",
       "      <td>0</td>\n",
       "      <td>0</td>\n",
       "      <td>0</td>\n",
       "      <td>0</td>\n",
       "      <td>0</td>\n",
       "    </tr>\n",
       "  </tbody>\n",
       "</table>\n",
       "<p>5 rows × 58 columns</p>\n",
       "</div>"
      ],
      "text/plain": [
       "                     brand                                       name  \\\n",
       "0  FENTY BEAUTY by Rihanna  Pro Filt'r Soft Matte Longwear Foundation   \n",
       "1  FENTY BEAUTY by Rihanna  Pro Filt'r Soft Matte Longwear Foundation   \n",
       "2  FENTY BEAUTY by Rihanna  Pro Filt'r Soft Matte Longwear Foundation   \n",
       "3  FENTY BEAUTY by Rihanna  Pro Filt'r Soft Matte Longwear Foundation   \n",
       "4  FENTY BEAUTY by Rihanna  Pro Filt'r Soft Matte Longwear Foundation   \n",
       "\n",
       "  product_id  normal_skin  oily_skin  combo_skin  dry_skin  SPF  rating  \\\n",
       "0  P87985432            1          1           1         1    0       4   \n",
       "1  P87985432            1          1           1         1    0       5   \n",
       "2  P87985432            1          1           1         1    0       5   \n",
       "3  P87985432            1          1           1         1    0       5   \n",
       "4  P87985432            1          1           1         1    0       5   \n",
       "\n",
       "   recommended              ...                skin_concerns_cuticles  \\\n",
       "0            1              ...                                     0   \n",
       "1            1              ...                                     0   \n",
       "2            1              ...                                     0   \n",
       "3            1              ...                                     0   \n",
       "4            1              ...                                     0   \n",
       "\n",
       "   skin_concerns_darkCircles skin_concerns_dullness  skin_concerns_pores  \\\n",
       "0                          0                      0                    0   \n",
       "1                          0                      0                    0   \n",
       "2                          1                      0                    0   \n",
       "3                          0                      0                    0   \n",
       "4                          1                      0                    0   \n",
       "\n",
       "   skin_concerns_puffiness  skin_concerns_redness  skin_concerns_sensitivity  \\\n",
       "0                        0                      0                          0   \n",
       "1                        0                      0                          0   \n",
       "2                        0                      0                          0   \n",
       "3                        0                      0                          0   \n",
       "4                        0                      0                          0   \n",
       "\n",
       "   skin_concerns_stretchMarks  skin_concerns_sunDamage  \\\n",
       "0                           0                        0   \n",
       "1                           0                        0   \n",
       "2                           0                        0   \n",
       "3                           0                        0   \n",
       "4                           0                        0   \n",
       "\n",
       "   skin_concerns_unevenSkinTones  \n",
       "0                              0  \n",
       "1                              0  \n",
       "2                              0  \n",
       "3                              0  \n",
       "4                              0  \n",
       "\n",
       "[5 rows x 58 columns]"
      ]
     },
     "execution_count": 17,
     "metadata": {},
     "output_type": "execute_result"
    }
   ],
   "source": [
    "# remove the columns that have been recoded\n",
    "df = df[df.columns[~df.columns.isin(categorical_cols)]]\n",
    "\n",
    "# combine the new feature columns with the original dataframe\n",
    "df = pd.concat([df, categorical_dummies], axis=1)\n",
    "df.head()"
   ]
  },
  {
   "cell_type": "markdown",
   "metadata": {},
   "source": [
    "### 1.3 Text data"
   ]
  },
  {
   "cell_type": "markdown",
   "metadata": {},
   "source": [
    "#### 1.3.1 Sentiment Score"
   ]
  },
  {
   "cell_type": "code",
   "execution_count": 18,
   "metadata": {},
   "outputs": [],
   "source": [
    "# create a function to calculate the sentiment score of every review\n",
    "def sentiscore(text):\n",
    "    analyzer = SentimentIntensityAnalyzer()\n",
    "    senti_score = analyzer.polarity_scores(text)['compound']\n",
    "    return senti_score"
   ]
  },
  {
   "cell_type": "code",
   "execution_count": 19,
   "metadata": {},
   "outputs": [],
   "source": [
    "# create a new column to contain the sentiment score\n",
    "df['senti_score'] = df['review_text'].apply(sentiscore)"
   ]
  },
  {
   "cell_type": "code",
   "execution_count": 20,
   "metadata": {},
   "outputs": [
    {
     "data": {
      "text/html": [
       "<div>\n",
       "<style scoped>\n",
       "    .dataframe tbody tr th:only-of-type {\n",
       "        vertical-align: middle;\n",
       "    }\n",
       "\n",
       "    .dataframe tbody tr th {\n",
       "        vertical-align: top;\n",
       "    }\n",
       "\n",
       "    .dataframe thead th {\n",
       "        text-align: right;\n",
       "    }\n",
       "</style>\n",
       "<table border=\"1\" class=\"dataframe\">\n",
       "  <thead>\n",
       "    <tr style=\"text-align: right;\">\n",
       "      <th></th>\n",
       "      <th>brand</th>\n",
       "      <th>name</th>\n",
       "      <th>product_id</th>\n",
       "      <th>normal_skin</th>\n",
       "      <th>oily_skin</th>\n",
       "      <th>combo_skin</th>\n",
       "      <th>dry_skin</th>\n",
       "      <th>SPF</th>\n",
       "      <th>rating</th>\n",
       "      <th>recommended</th>\n",
       "      <th>...</th>\n",
       "      <th>skin_concerns_darkCircles</th>\n",
       "      <th>skin_concerns_dullness</th>\n",
       "      <th>skin_concerns_pores</th>\n",
       "      <th>skin_concerns_puffiness</th>\n",
       "      <th>skin_concerns_redness</th>\n",
       "      <th>skin_concerns_sensitivity</th>\n",
       "      <th>skin_concerns_stretchMarks</th>\n",
       "      <th>skin_concerns_sunDamage</th>\n",
       "      <th>skin_concerns_unevenSkinTones</th>\n",
       "      <th>senti_score</th>\n",
       "    </tr>\n",
       "  </thead>\n",
       "  <tbody>\n",
       "    <tr>\n",
       "      <th>0</th>\n",
       "      <td>FENTY BEAUTY by Rihanna</td>\n",
       "      <td>Pro Filt'r Soft Matte Longwear Foundation</td>\n",
       "      <td>P87985432</td>\n",
       "      <td>1</td>\n",
       "      <td>1</td>\n",
       "      <td>1</td>\n",
       "      <td>1</td>\n",
       "      <td>0</td>\n",
       "      <td>4</td>\n",
       "      <td>1</td>\n",
       "      <td>...</td>\n",
       "      <td>0</td>\n",
       "      <td>0</td>\n",
       "      <td>0</td>\n",
       "      <td>0</td>\n",
       "      <td>0</td>\n",
       "      <td>0</td>\n",
       "      <td>0</td>\n",
       "      <td>0</td>\n",
       "      <td>0</td>\n",
       "      <td>0.7674</td>\n",
       "    </tr>\n",
       "    <tr>\n",
       "      <th>1</th>\n",
       "      <td>FENTY BEAUTY by Rihanna</td>\n",
       "      <td>Pro Filt'r Soft Matte Longwear Foundation</td>\n",
       "      <td>P87985432</td>\n",
       "      <td>1</td>\n",
       "      <td>1</td>\n",
       "      <td>1</td>\n",
       "      <td>1</td>\n",
       "      <td>0</td>\n",
       "      <td>5</td>\n",
       "      <td>1</td>\n",
       "      <td>...</td>\n",
       "      <td>0</td>\n",
       "      <td>0</td>\n",
       "      <td>0</td>\n",
       "      <td>0</td>\n",
       "      <td>0</td>\n",
       "      <td>0</td>\n",
       "      <td>0</td>\n",
       "      <td>0</td>\n",
       "      <td>0</td>\n",
       "      <td>0.9578</td>\n",
       "    </tr>\n",
       "    <tr>\n",
       "      <th>2</th>\n",
       "      <td>FENTY BEAUTY by Rihanna</td>\n",
       "      <td>Pro Filt'r Soft Matte Longwear Foundation</td>\n",
       "      <td>P87985432</td>\n",
       "      <td>1</td>\n",
       "      <td>1</td>\n",
       "      <td>1</td>\n",
       "      <td>1</td>\n",
       "      <td>0</td>\n",
       "      <td>5</td>\n",
       "      <td>1</td>\n",
       "      <td>...</td>\n",
       "      <td>1</td>\n",
       "      <td>0</td>\n",
       "      <td>0</td>\n",
       "      <td>0</td>\n",
       "      <td>0</td>\n",
       "      <td>0</td>\n",
       "      <td>0</td>\n",
       "      <td>0</td>\n",
       "      <td>0</td>\n",
       "      <td>0.8910</td>\n",
       "    </tr>\n",
       "    <tr>\n",
       "      <th>3</th>\n",
       "      <td>FENTY BEAUTY by Rihanna</td>\n",
       "      <td>Pro Filt'r Soft Matte Longwear Foundation</td>\n",
       "      <td>P87985432</td>\n",
       "      <td>1</td>\n",
       "      <td>1</td>\n",
       "      <td>1</td>\n",
       "      <td>1</td>\n",
       "      <td>0</td>\n",
       "      <td>5</td>\n",
       "      <td>1</td>\n",
       "      <td>...</td>\n",
       "      <td>0</td>\n",
       "      <td>0</td>\n",
       "      <td>0</td>\n",
       "      <td>0</td>\n",
       "      <td>0</td>\n",
       "      <td>0</td>\n",
       "      <td>0</td>\n",
       "      <td>0</td>\n",
       "      <td>0</td>\n",
       "      <td>0.8970</td>\n",
       "    </tr>\n",
       "    <tr>\n",
       "      <th>4</th>\n",
       "      <td>FENTY BEAUTY by Rihanna</td>\n",
       "      <td>Pro Filt'r Soft Matte Longwear Foundation</td>\n",
       "      <td>P87985432</td>\n",
       "      <td>1</td>\n",
       "      <td>1</td>\n",
       "      <td>1</td>\n",
       "      <td>1</td>\n",
       "      <td>0</td>\n",
       "      <td>5</td>\n",
       "      <td>1</td>\n",
       "      <td>...</td>\n",
       "      <td>1</td>\n",
       "      <td>0</td>\n",
       "      <td>0</td>\n",
       "      <td>0</td>\n",
       "      <td>0</td>\n",
       "      <td>0</td>\n",
       "      <td>0</td>\n",
       "      <td>0</td>\n",
       "      <td>0</td>\n",
       "      <td>0.9557</td>\n",
       "    </tr>\n",
       "  </tbody>\n",
       "</table>\n",
       "<p>5 rows × 59 columns</p>\n",
       "</div>"
      ],
      "text/plain": [
       "                     brand                                       name  \\\n",
       "0  FENTY BEAUTY by Rihanna  Pro Filt'r Soft Matte Longwear Foundation   \n",
       "1  FENTY BEAUTY by Rihanna  Pro Filt'r Soft Matte Longwear Foundation   \n",
       "2  FENTY BEAUTY by Rihanna  Pro Filt'r Soft Matte Longwear Foundation   \n",
       "3  FENTY BEAUTY by Rihanna  Pro Filt'r Soft Matte Longwear Foundation   \n",
       "4  FENTY BEAUTY by Rihanna  Pro Filt'r Soft Matte Longwear Foundation   \n",
       "\n",
       "  product_id  normal_skin  oily_skin  combo_skin  dry_skin  SPF  rating  \\\n",
       "0  P87985432            1          1           1         1    0       4   \n",
       "1  P87985432            1          1           1         1    0       5   \n",
       "2  P87985432            1          1           1         1    0       5   \n",
       "3  P87985432            1          1           1         1    0       5   \n",
       "4  P87985432            1          1           1         1    0       5   \n",
       "\n",
       "   recommended     ...       skin_concerns_darkCircles  \\\n",
       "0            1     ...                               0   \n",
       "1            1     ...                               0   \n",
       "2            1     ...                               1   \n",
       "3            1     ...                               0   \n",
       "4            1     ...                               1   \n",
       "\n",
       "   skin_concerns_dullness skin_concerns_pores  skin_concerns_puffiness  \\\n",
       "0                       0                   0                        0   \n",
       "1                       0                   0                        0   \n",
       "2                       0                   0                        0   \n",
       "3                       0                   0                        0   \n",
       "4                       0                   0                        0   \n",
       "\n",
       "   skin_concerns_redness  skin_concerns_sensitivity  \\\n",
       "0                      0                          0   \n",
       "1                      0                          0   \n",
       "2                      0                          0   \n",
       "3                      0                          0   \n",
       "4                      0                          0   \n",
       "\n",
       "   skin_concerns_stretchMarks  skin_concerns_sunDamage  \\\n",
       "0                           0                        0   \n",
       "1                           0                        0   \n",
       "2                           0                        0   \n",
       "3                           0                        0   \n",
       "4                           0                        0   \n",
       "\n",
       "   skin_concerns_unevenSkinTones  senti_score  \n",
       "0                              0       0.7674  \n",
       "1                              0       0.9578  \n",
       "2                              0       0.8910  \n",
       "3                              0       0.8970  \n",
       "4                              0       0.9557  \n",
       "\n",
       "[5 rows x 59 columns]"
      ]
     },
     "execution_count": 20,
     "metadata": {},
     "output_type": "execute_result"
    }
   ],
   "source": [
    "df.head()"
   ]
  },
  {
   "cell_type": "markdown",
   "metadata": {},
   "source": [
    "#### 1.3.2 TFIDF matrix"
   ]
  },
  {
   "cell_type": "code",
   "execution_count": 21,
   "metadata": {},
   "outputs": [],
   "source": [
    "# define the stopword list\n",
    "stop_words = set(stopwords.words('english'))\n",
    "\n",
    "# update the stopword with some common words related to foundation\n",
    "stop_words.update(['foundation','skin', 'make', 'product', 'face', \n",
    "                  'really', 'work', 'use', 'tried', 'color', 'got', 'say', 'actually',\n",
    "                 'using', 'used', 'one', 'two', 'three', 'four','five', 'definitely', 'absolutely',\n",
    "                 'bought', 'found', 'still', 'makeup', 'made', 'look', 'feel', 'will', 'though',\n",
    "                 'little', 'find', 'seem', 'looked','much', 'lot', 'even', 'love', 'return', 'however','also',\n",
    "                  'always','around','bit','ever','every','feels','first','get','give','gives','go','goes','lasts','put',\n",
    "                  'received','since','way','wanted','would','without','sephora','think','beautiful','beauty','blends',\n",
    "                  'best','better','could','buy','good','great','like','looking','looks','many','perfect','usually','want',\n",
    "                  'felt','loved'])"
   ]
  },
  {
   "cell_type": "code",
   "execution_count": 22,
   "metadata": {},
   "outputs": [],
   "source": [
    "# apply tfidf\n",
    "tfidf = TfidfVectorizer(stop_words = stop_words, use_idf = True, max_features = 100)\n",
    "feature_matrix = tfidf.fit_transform(df['review_text'])"
   ]
  },
  {
   "cell_type": "code",
   "execution_count": 23,
   "metadata": {},
   "outputs": [
    {
     "data": {
      "text/plain": [
       "['acne',\n",
       " 'amazing',\n",
       " 'application',\n",
       " 'applied',\n",
       " 'apply',\n",
       " 'back',\n",
       " 'bad',\n",
       " 'blend',\n",
       " 'blender',\n",
       " 'bottle',\n",
       " 'break',\n",
       " 'brush',\n",
       " 'buildable',\n",
       " 'cakey',\n",
       " 'combination',\n",
       " 'combo',\n",
       " 'complimentary',\n",
       " 'concealer',\n",
       " 'cover',\n",
       " 'coverage',\n",
       " 'covers',\n",
       " 'cream',\n",
       " 'dark',\n",
       " 'day',\n",
       " 'dewy',\n",
       " 'different',\n",
       " 'dry',\n",
       " 'easy',\n",
       " 'end',\n",
       " 'enough',\n",
       " 'far',\n",
       " 'favorite',\n",
       " 'finish',\n",
       " 'flawless',\n",
       " 'formula',\n",
       " 'foundations',\n",
       " 'free',\n",
       " 'full',\n",
       " 'going',\n",
       " 'hard',\n",
       " 'heavy',\n",
       " 'hours',\n",
       " 'influenster',\n",
       " 'last',\n",
       " 'light',\n",
       " 'lightweight',\n",
       " 'lines',\n",
       " 'long',\n",
       " 'makes',\n",
       " 'match',\n",
       " 'matched',\n",
       " 'matches',\n",
       " 'matte',\n",
       " 'medium',\n",
       " 'moisturizer',\n",
       " 'natural',\n",
       " 'need',\n",
       " 'never',\n",
       " 'new',\n",
       " 'nice',\n",
       " 'nose',\n",
       " 'oil',\n",
       " 'oily',\n",
       " 'patches',\n",
       " 'perfectly',\n",
       " 'pores',\n",
       " 'powder',\n",
       " 'pretty',\n",
       " 'price',\n",
       " 'primer',\n",
       " 'products',\n",
       " 'range',\n",
       " 'recommend',\n",
       " 'right',\n",
       " 'sample',\n",
       " 'see',\n",
       " 'set',\n",
       " 'setting',\n",
       " 'shade',\n",
       " 'shades',\n",
       " 'smooth',\n",
       " 'something',\n",
       " 'spf',\n",
       " 'stays',\n",
       " 'stick',\n",
       " 'summer',\n",
       " 'super',\n",
       " 'sure',\n",
       " 'texture',\n",
       " 'throughout',\n",
       " 'time',\n",
       " 'tone',\n",
       " 'try',\n",
       " 'wear',\n",
       " 'wearing',\n",
       " 'well',\n",
       " 'went',\n",
       " 'works',\n",
       " 'worth',\n",
       " 'years']"
      ]
     },
     "execution_count": 23,
     "metadata": {},
     "output_type": "execute_result"
    }
   ],
   "source": [
    "tfidf.get_feature_names()"
   ]
  },
  {
   "cell_type": "code",
   "execution_count": 24,
   "metadata": {},
   "outputs": [],
   "source": [
    "# create the tfidf dataframe\n",
    "TFIDF = pd.DataFrame(feature_matrix.toarray(), columns=tfidf.get_feature_names())"
   ]
  },
  {
   "cell_type": "code",
   "execution_count": 25,
   "metadata": {},
   "outputs": [],
   "source": [
    "# conbine the TFDIF dataframe with the origin dataframe\n",
    "df.reset_index(drop=True, inplace=True)\n",
    "TFIDF.reset_index(drop=True, inplace=True)\n",
    "new_df = pd.concat([df, TFIDF], axis=1)\n",
    "\n",
    "# drop the 'review_text' column\n",
    "new_df.drop('review_text', axis=1, inplace=True)"
   ]
  },
  {
   "cell_type": "code",
   "execution_count": 26,
   "metadata": {},
   "outputs": [
    {
     "data": {
      "text/html": [
       "<div>\n",
       "<style scoped>\n",
       "    .dataframe tbody tr th:only-of-type {\n",
       "        vertical-align: middle;\n",
       "    }\n",
       "\n",
       "    .dataframe tbody tr th {\n",
       "        vertical-align: top;\n",
       "    }\n",
       "\n",
       "    .dataframe thead th {\n",
       "        text-align: right;\n",
       "    }\n",
       "</style>\n",
       "<table border=\"1\" class=\"dataframe\">\n",
       "  <thead>\n",
       "    <tr style=\"text-align: right;\">\n",
       "      <th></th>\n",
       "      <th>brand</th>\n",
       "      <th>name</th>\n",
       "      <th>product_id</th>\n",
       "      <th>normal_skin</th>\n",
       "      <th>oily_skin</th>\n",
       "      <th>combo_skin</th>\n",
       "      <th>dry_skin</th>\n",
       "      <th>SPF</th>\n",
       "      <th>rating</th>\n",
       "      <th>recommended</th>\n",
       "      <th>...</th>\n",
       "      <th>time</th>\n",
       "      <th>tone</th>\n",
       "      <th>try</th>\n",
       "      <th>wear</th>\n",
       "      <th>wearing</th>\n",
       "      <th>well</th>\n",
       "      <th>went</th>\n",
       "      <th>works</th>\n",
       "      <th>worth</th>\n",
       "      <th>years</th>\n",
       "    </tr>\n",
       "  </thead>\n",
       "  <tbody>\n",
       "    <tr>\n",
       "      <th>0</th>\n",
       "      <td>FENTY BEAUTY by Rihanna</td>\n",
       "      <td>Pro Filt'r Soft Matte Longwear Foundation</td>\n",
       "      <td>P87985432</td>\n",
       "      <td>1</td>\n",
       "      <td>1</td>\n",
       "      <td>1</td>\n",
       "      <td>1</td>\n",
       "      <td>0</td>\n",
       "      <td>4</td>\n",
       "      <td>1</td>\n",
       "      <td>...</td>\n",
       "      <td>0.000000</td>\n",
       "      <td>0.000000</td>\n",
       "      <td>0.00000</td>\n",
       "      <td>0.000000</td>\n",
       "      <td>0.0</td>\n",
       "      <td>0.0</td>\n",
       "      <td>0.0</td>\n",
       "      <td>0.000000</td>\n",
       "      <td>0.0</td>\n",
       "      <td>0.0</td>\n",
       "    </tr>\n",
       "    <tr>\n",
       "      <th>1</th>\n",
       "      <td>FENTY BEAUTY by Rihanna</td>\n",
       "      <td>Pro Filt'r Soft Matte Longwear Foundation</td>\n",
       "      <td>P87985432</td>\n",
       "      <td>1</td>\n",
       "      <td>1</td>\n",
       "      <td>1</td>\n",
       "      <td>1</td>\n",
       "      <td>0</td>\n",
       "      <td>5</td>\n",
       "      <td>1</td>\n",
       "      <td>...</td>\n",
       "      <td>0.204631</td>\n",
       "      <td>0.000000</td>\n",
       "      <td>0.00000</td>\n",
       "      <td>0.201095</td>\n",
       "      <td>0.0</td>\n",
       "      <td>0.0</td>\n",
       "      <td>0.0</td>\n",
       "      <td>0.000000</td>\n",
       "      <td>0.0</td>\n",
       "      <td>0.0</td>\n",
       "    </tr>\n",
       "    <tr>\n",
       "      <th>2</th>\n",
       "      <td>FENTY BEAUTY by Rihanna</td>\n",
       "      <td>Pro Filt'r Soft Matte Longwear Foundation</td>\n",
       "      <td>P87985432</td>\n",
       "      <td>1</td>\n",
       "      <td>1</td>\n",
       "      <td>1</td>\n",
       "      <td>1</td>\n",
       "      <td>0</td>\n",
       "      <td>5</td>\n",
       "      <td>1</td>\n",
       "      <td>...</td>\n",
       "      <td>0.262965</td>\n",
       "      <td>0.000000</td>\n",
       "      <td>0.27388</td>\n",
       "      <td>0.000000</td>\n",
       "      <td>0.0</td>\n",
       "      <td>0.0</td>\n",
       "      <td>0.0</td>\n",
       "      <td>0.315076</td>\n",
       "      <td>0.0</td>\n",
       "      <td>0.0</td>\n",
       "    </tr>\n",
       "    <tr>\n",
       "      <th>3</th>\n",
       "      <td>FENTY BEAUTY by Rihanna</td>\n",
       "      <td>Pro Filt'r Soft Matte Longwear Foundation</td>\n",
       "      <td>P87985432</td>\n",
       "      <td>1</td>\n",
       "      <td>1</td>\n",
       "      <td>1</td>\n",
       "      <td>1</td>\n",
       "      <td>0</td>\n",
       "      <td>5</td>\n",
       "      <td>1</td>\n",
       "      <td>...</td>\n",
       "      <td>0.000000</td>\n",
       "      <td>0.000000</td>\n",
       "      <td>0.00000</td>\n",
       "      <td>0.000000</td>\n",
       "      <td>0.0</td>\n",
       "      <td>0.0</td>\n",
       "      <td>0.0</td>\n",
       "      <td>0.000000</td>\n",
       "      <td>0.0</td>\n",
       "      <td>0.0</td>\n",
       "    </tr>\n",
       "    <tr>\n",
       "      <th>4</th>\n",
       "      <td>FENTY BEAUTY by Rihanna</td>\n",
       "      <td>Pro Filt'r Soft Matte Longwear Foundation</td>\n",
       "      <td>P87985432</td>\n",
       "      <td>1</td>\n",
       "      <td>1</td>\n",
       "      <td>1</td>\n",
       "      <td>1</td>\n",
       "      <td>0</td>\n",
       "      <td>5</td>\n",
       "      <td>1</td>\n",
       "      <td>...</td>\n",
       "      <td>0.000000</td>\n",
       "      <td>0.412108</td>\n",
       "      <td>0.00000</td>\n",
       "      <td>0.000000</td>\n",
       "      <td>0.0</td>\n",
       "      <td>0.0</td>\n",
       "      <td>0.0</td>\n",
       "      <td>0.000000</td>\n",
       "      <td>0.0</td>\n",
       "      <td>0.0</td>\n",
       "    </tr>\n",
       "  </tbody>\n",
       "</table>\n",
       "<p>5 rows × 158 columns</p>\n",
       "</div>"
      ],
      "text/plain": [
       "                     brand                                       name  \\\n",
       "0  FENTY BEAUTY by Rihanna  Pro Filt'r Soft Matte Longwear Foundation   \n",
       "1  FENTY BEAUTY by Rihanna  Pro Filt'r Soft Matte Longwear Foundation   \n",
       "2  FENTY BEAUTY by Rihanna  Pro Filt'r Soft Matte Longwear Foundation   \n",
       "3  FENTY BEAUTY by Rihanna  Pro Filt'r Soft Matte Longwear Foundation   \n",
       "4  FENTY BEAUTY by Rihanna  Pro Filt'r Soft Matte Longwear Foundation   \n",
       "\n",
       "  product_id  normal_skin  oily_skin  combo_skin  dry_skin  SPF  rating  \\\n",
       "0  P87985432            1          1           1         1    0       4   \n",
       "1  P87985432            1          1           1         1    0       5   \n",
       "2  P87985432            1          1           1         1    0       5   \n",
       "3  P87985432            1          1           1         1    0       5   \n",
       "4  P87985432            1          1           1         1    0       5   \n",
       "\n",
       "   recommended  ...        time      tone      try      wear  wearing  well  \\\n",
       "0            1  ...    0.000000  0.000000  0.00000  0.000000      0.0   0.0   \n",
       "1            1  ...    0.204631  0.000000  0.00000  0.201095      0.0   0.0   \n",
       "2            1  ...    0.262965  0.000000  0.27388  0.000000      0.0   0.0   \n",
       "3            1  ...    0.000000  0.000000  0.00000  0.000000      0.0   0.0   \n",
       "4            1  ...    0.000000  0.412108  0.00000  0.000000      0.0   0.0   \n",
       "\n",
       "   went     works  worth  years  \n",
       "0   0.0  0.000000    0.0    0.0  \n",
       "1   0.0  0.000000    0.0    0.0  \n",
       "2   0.0  0.315076    0.0    0.0  \n",
       "3   0.0  0.000000    0.0    0.0  \n",
       "4   0.0  0.000000    0.0    0.0  \n",
       "\n",
       "[5 rows x 158 columns]"
      ]
     },
     "execution_count": 26,
     "metadata": {},
     "output_type": "execute_result"
    }
   ],
   "source": [
    "new_df.head()"
   ]
  },
  {
   "cell_type": "markdown",
   "metadata": {},
   "source": [
    "### 1.4 Feature Selection: Recursive Feature Elimination"
   ]
  },
  {
   "cell_type": "markdown",
   "metadata": {},
   "source": [
    "#### 1.4.1 Without review text feature"
   ]
  },
  {
   "cell_type": "code",
   "execution_count": 27,
   "metadata": {},
   "outputs": [],
   "source": [
    "# without review text\n",
    "y_lite = new_df['recommended']\n",
    "\n",
    "# drop the brand column and product name column\n",
    "X_lite = new_df.loc[:, new_df.columns != 'recommended']\n",
    "X_lite = X_lite.loc[:, X_lite.columns != 'rating']\n",
    "X_lite = X_lite.iloc[:, 3:55]"
   ]
  },
  {
   "cell_type": "code",
   "execution_count": 28,
   "metadata": {},
   "outputs": [
    {
     "data": {
      "text/plain": [
       "RFECV(cv=StratifiedKFold(n_splits=10, random_state=None, shuffle=False),\n",
       "   estimator=LogisticRegression(C=1.0, class_weight=None, dual=False, fit_intercept=True,\n",
       "          intercept_scaling=1, max_iter=100, multi_class='ovr', n_jobs=1,\n",
       "          penalty='l2', random_state=101, solver='liblinear', tol=0.0001,\n",
       "          verbose=0, warm_start=False),\n",
       "   n_jobs=-1, scoring='accuracy', step=1, verbose=0)"
      ]
     },
     "execution_count": 28,
     "metadata": {},
     "output_type": "execute_result"
    }
   ],
   "source": [
    "# fit the REF model\n",
    "rfecv_lite = RFECV(LogisticRegression(random_state=101), step=1, cv=StratifiedKFold(10), scoring='accuracy',n_jobs=-1)\n",
    "rfecv_lite.fit(X_lite, y_lite)"
   ]
  },
  {
   "cell_type": "code",
   "execution_count": 29,
   "metadata": {},
   "outputs": [
    {
     "data": {
      "image/png": "[encoded data removed]",
      "text/plain": [
       "<Figure size 1152x648 with 1 Axes>"
      ]
     },
     "metadata": {},
     "output_type": "display_data"
    }
   ],
   "source": [
    "# plot the result\n",
    "plt.figure(figsize=(16, 9))\n",
    "plt.title('Recursive Feature Elimination with Cross-Validation', fontsize=18, fontweight='bold', pad=20)\n",
    "plt.xlabel('Number of features selected', fontsize=14, labelpad=20)\n",
    "plt.ylabel('Accuracy', fontsize=14, labelpad=20)\n",
    "plt.plot(range(1, len(rfecv_lite.grid_scores_) + 1), rfecv_lite.grid_scores_, color='#303F9F', linewidth=3)\n",
    "\n",
    "plt.show()"
   ]
  },
  {
   "cell_type": "code",
   "execution_count": 30,
   "metadata": {},
   "outputs": [
    {
     "name": "stdout",
     "output_type": "stream",
     "text": [
      "Optimal number of features: 16\n"
     ]
    }
   ],
   "source": [
    "# print the optimal number of predictors\n",
    "print('Optimal number of features: {}'.format(rfecv_lite.n_features_))"
   ]
  },
  {
   "cell_type": "code",
   "execution_count": 31,
   "metadata": {},
   "outputs": [
    {
     "name": "stdout",
     "output_type": "stream",
     "text": [
      "[ 1  4  7 10 11 14 16 17 18 28 29 30 34 35 36 48]\n"
     ]
    }
   ],
   "source": [
    "print(np.where(rfecv_lite.support_ == True)[0])"
   ]
  },
  {
   "cell_type": "code",
   "execution_count": 32,
   "metadata": {},
   "outputs": [
    {
     "data": {
      "text/plain": [
       "Index(['oily_skin', 'SPF', 'finish_Matte', 'formulation_Cream',\n",
       "       'formulation_Liquid', 'formulation_Pressed', 'coverage_Full',\n",
       "       'coverage_Light', 'coverage_Medium', 'skin_tone_dark', 'skin_tone_deep',\n",
       "       'skin_tone_ebony', 'skin_tone_olive', 'skin_tone_porcelain',\n",
       "       'skin_tone_tan', 'skin_concerns_sensitivity'],\n",
       "      dtype='object')"
      ]
     },
     "execution_count": 32,
     "metadata": {},
     "output_type": "execute_result"
    }
   ],
   "source": [
    "# list the optimal predictors\n",
    "X_lite.drop(X_lite.columns[np.where(rfecv_lite.support_ == False)[0]], axis=1, inplace=True)\n",
    "\n",
    "X_lite.columns"
   ]
  },
  {
   "cell_type": "code",
   "execution_count": 33,
   "metadata": {},
   "outputs": [],
   "source": [
    "# split the dataset into training and testing\n",
    "X_train_lite, X_test_lite, y_train_lite, y_test_lite = train_test_split(X_lite, y_lite, random_state=42)"
   ]
  },
  {
   "cell_type": "markdown",
   "metadata": {},
   "source": [
    "#### 1.4.2 With review text feature"
   ]
  },
  {
   "cell_type": "code",
   "execution_count": 34,
   "metadata": {},
   "outputs": [],
   "source": [
    "# with review text\n",
    "y = new_df['recommended']\n",
    "\n",
    "# drop the brand column and product name column\n",
    "X = new_df.loc[:, new_df.columns != 'recommended']\n",
    "X = X.loc[:, X.columns != 'rating']\n",
    "X = X.iloc[:, 3:]"
   ]
  },
  {
   "cell_type": "code",
   "execution_count": 35,
   "metadata": {},
   "outputs": [
    {
     "data": {
      "text/plain": [
       "RFECV(cv=StratifiedKFold(n_splits=10, random_state=None, shuffle=False),\n",
       "   estimator=LogisticRegression(C=1.0, class_weight=None, dual=False, fit_intercept=True,\n",
       "          intercept_scaling=1, max_iter=100, multi_class='ovr', n_jobs=1,\n",
       "          penalty='l2', random_state=101, solver='liblinear', tol=0.0001,\n",
       "          verbose=0, warm_start=False),\n",
       "   n_jobs=-1, scoring='accuracy', step=1, verbose=0)"
      ]
     },
     "execution_count": 35,
     "metadata": {},
     "output_type": "execute_result"
    }
   ],
   "source": [
    "# fit the REF model\n",
    "rfecv = RFECV(estimator=LogisticRegression(random_state=101), step=1, cv=StratifiedKFold(10), scoring='accuracy',n_jobs=-1)\n",
    "rfecv.fit(X, y)"
   ]
  },
  {
   "cell_type": "code",
   "execution_count": 36,
   "metadata": {},
   "outputs": [
    {
     "data": {
      "image/png": "[encoded data removed]",
      "text/plain": [
       "<Figure size 1152x648 with 1 Axes>"
      ]
     },
     "metadata": {},
     "output_type": "display_data"
    }
   ],
   "source": [
    "# plot the result\n",
    "plt.figure(figsize=(16, 9))\n",
    "plt.title('Recursive Feature Elimination with Cross-Validation', fontsize=18, fontweight='bold', pad=20)\n",
    "plt.xlabel('Number of features selected', fontsize=14, labelpad=20)\n",
    "plt.ylabel('Accuracy', fontsize=14, labelpad=20)\n",
    "plt.plot(range(1, len(rfecv.grid_scores_) + 1), rfecv.grid_scores_, color='#303F9F', linewidth=3)\n",
    "\n",
    "plt.show()"
   ]
  },
  {
   "cell_type": "code",
   "execution_count": 37,
   "metadata": {},
   "outputs": [
    {
     "name": "stdout",
     "output_type": "stream",
     "text": [
      "Optimal number of features: 129\n"
     ]
    }
   ],
   "source": [
    "print('Optimal number of features: {}'.format(rfecv.n_features_))"
   ]
  },
  {
   "cell_type": "code",
   "execution_count": 38,
   "metadata": {},
   "outputs": [
    {
     "data": {
      "text/plain": [
       "Index(['normal_skin', 'oily_skin', 'dry_skin', 'SPF', 'finish_Matte',\n",
       "       'finish_Natural', 'formulation_Cream', 'formulation_Liquid',\n",
       "       'formulation_Loose', 'formulation_Pressed',\n",
       "       ...\n",
       "       'throughout', 'tone', 'try', 'wear', 'wearing', 'well', 'went', 'works',\n",
       "       'worth', 'years'],\n",
       "      dtype='object', length=128)"
      ]
     },
     "execution_count": 38,
     "metadata": {},
     "output_type": "execute_result"
    }
   ],
   "source": [
    "# list the optimal predictors\n",
    "X.drop(X.columns[np.where(rfecv.support_ == False)[0]], axis=1, inplace=True)\n",
    "\n",
    "X.columns"
   ]
  },
  {
   "cell_type": "code",
   "execution_count": 39,
   "metadata": {},
   "outputs": [],
   "source": [
    "# split the dataset into training and testing\n",
    "X_train, X_test, y_train, y_test = train_test_split(X, y, random_state=42)"
   ]
  },
  {
   "cell_type": "markdown",
   "metadata": {},
   "source": [
    "### 1.5 Resampling"
   ]
  },
  {
   "cell_type": "code",
   "execution_count": 40,
   "metadata": {},
   "outputs": [
    {
     "data": {
      "text/html": [
       "<div>\n",
       "<style scoped>\n",
       "    .dataframe tbody tr th:only-of-type {\n",
       "        vertical-align: middle;\n",
       "    }\n",
       "\n",
       "    .dataframe tbody tr th {\n",
       "        vertical-align: top;\n",
       "    }\n",
       "\n",
       "    .dataframe thead th {\n",
       "        text-align: right;\n",
       "    }\n",
       "</style>\n",
       "<table border=\"1\" class=\"dataframe\">\n",
       "  <thead>\n",
       "    <tr style=\"text-align: right;\">\n",
       "      <th></th>\n",
       "      <th>Counts</th>\n",
       "      <th>Percentage</th>\n",
       "    </tr>\n",
       "  </thead>\n",
       "  <tbody>\n",
       "    <tr>\n",
       "      <th>recommend</th>\n",
       "      <td>48467</td>\n",
       "      <td>79.09</td>\n",
       "    </tr>\n",
       "    <tr>\n",
       "      <th>not recommend</th>\n",
       "      <td>12813</td>\n",
       "      <td>20.91</td>\n",
       "    </tr>\n",
       "  </tbody>\n",
       "</table>\n",
       "</div>"
      ],
      "text/plain": [
       "               Counts  Percentage\n",
       "recommend       48467       79.09\n",
       "not recommend   12813       20.91"
      ]
     },
     "execution_count": 40,
     "metadata": {},
     "output_type": "execute_result"
    }
   ],
   "source": [
    "# Check the balance of trainig data\n",
    "counts=y_train.value_counts()\n",
    "percentage=round((y_train.value_counts(normalize=True)),4)*100\n",
    "distribution=pd.concat([counts, percentage], axis=1)\n",
    "distribution.columns=['Counts','Percentage']\n",
    "distribution.rename(index={1:'recommend',0:'not recommend'}, inplace=True)\n",
    "distribution"
   ]
  },
  {
   "cell_type": "code",
   "execution_count": 41,
   "metadata": {},
   "outputs": [
    {
     "data": {
      "image/png": "[encoded data removed]",
      "text/plain": [
       "<Figure size 432x288 with 1 Axes>"
      ]
     },
     "metadata": {},
     "output_type": "display_data"
    }
   ],
   "source": [
    "# plot the distribution\n",
    "distribution.plot(kind='bar',x=distribution.index.name,y='Percentage',legend=None)\n",
    "plt.title('Data Balance', fontsize=16, pad=20)\n",
    "plt.ylabel('Percentage', fontsize=14, labelpad=20)\n",
    "plt.xticks(rotation=0)\n",
    "plt.show()"
   ]
  },
  {
   "cell_type": "code",
   "execution_count": 42,
   "metadata": {},
   "outputs": [
    {
     "name": "stdout",
     "output_type": "stream",
     "text": [
      "1    12813\n",
      "0    12813\n",
      "dtype: int64\n"
     ]
    }
   ],
   "source": [
    "# lite version undersampling\n",
    "rus_lite = RandomUnderSampler(random_state=0)\n",
    "X_train_lite, y_train_lite = rus_lite.fit_sample(X_train_lite, y_train_lite)\n",
    "\n",
    "y_train_lite = pd.Series(y_train_lite)\n",
    "X_train_lite = pd.DataFrame(X_train_lite, columns=X_lite.columns)\n",
    "\n",
    "print(y_train_lite.value_counts())"
   ]
  },
  {
   "cell_type": "code",
   "execution_count": 43,
   "metadata": {},
   "outputs": [
    {
     "name": "stdout",
     "output_type": "stream",
     "text": [
      "1    12813\n",
      "0    12813\n",
      "dtype: int64\n"
     ]
    }
   ],
   "source": [
    "# full version undersampling\n",
    "rus = RandomUnderSampler(random_state=0)\n",
    "X_train, y_train = rus.fit_sample(X_train, y_train)\n",
    "\n",
    "y_train = pd.Series(y_train)\n",
    "X_train = pd.DataFrame(X_train, columns=X.columns)\n",
    "\n",
    "print(y_train.value_counts())"
   ]
  },
  {
   "cell_type": "markdown",
   "metadata": {},
   "source": [
    "## 2.  Comparative Analysis"
   ]
  },
  {
   "cell_type": "markdown",
   "metadata": {},
   "source": [
    "### 2.1 Logistic Regression"
   ]
  },
  {
   "cell_type": "markdown",
   "metadata": {},
   "source": [
    "#### Without review text"
   ]
  },
  {
   "cell_type": "code",
   "execution_count": 44,
   "metadata": {},
   "outputs": [
    {
     "data": {
      "text/plain": [
       "GridSearchCV(cv=10, error_score='raise',\n",
       "       estimator=LogisticRegression(C=1.0, class_weight=None, dual=False, fit_intercept=True,\n",
       "          intercept_scaling=1, max_iter=100, multi_class='ovr', n_jobs=1,\n",
       "          penalty='l2', random_state=42, solver='liblinear', tol=0.0001,\n",
       "          verbose=0, warm_start=False),\n",
       "       fit_params=None, iid=True, n_jobs=-1,\n",
       "       param_grid={'C': [0.01, 0.1, 1, 10, 100], 'penalty': ['l1', 'l2']},\n",
       "       pre_dispatch='2*n_jobs', refit=True, return_train_score='warn',\n",
       "       scoring=None, verbose=0)"
      ]
     },
     "execution_count": 44,
     "metadata": {},
     "output_type": "execute_result"
    }
   ],
   "source": [
    "# list the parameters\n",
    "param_grid_logistic_lite = {'C': [0.01, 0.1, 1, 10, 100],\n",
    "                            'penalty':['l1', 'l2']}\n",
    "\n",
    "# tuning parameters using cross-validation\n",
    "grid_logistic_lite = GridSearchCV(LogisticRegression(random_state=42), param_grid=param_grid_logistic_lite, cv=10,n_jobs=-1)\n",
    "\n",
    "# fit the model\n",
    "grid_logistic_lite.fit(X_train_lite, y_train_lite)"
   ]
  },
  {
   "cell_type": "code",
   "execution_count": 45,
   "metadata": {},
   "outputs": [
    {
     "name": "stdout",
     "output_type": "stream",
     "text": [
      "Best parameters:  {'C': 0.1, 'penalty': 'l1'}\n",
      "Best cross-validation score: 0.56\n",
      "Best test-set score: 0.542\n"
     ]
    }
   ],
   "source": [
    "# best parameter and score\n",
    "print(\"Best parameters: \", grid_logistic_lite.best_params_)\n",
    "print(\"Best cross-validation score: {:.2f}\".format(grid_logistic_lite.best_score_))\n",
    "print(\"Best test-set score: {:.3f}\".format(grid_logistic_lite.score(X_test_lite, y_test_lite)))"
   ]
  },
  {
   "cell_type": "code",
   "execution_count": 46,
   "metadata": {
    "scrolled": false
   },
   "outputs": [
    {
     "name": "stdout",
     "output_type": "stream",
     "text": [
      "[[2560 1702]\n",
      " [7646 8519]]\n"
     ]
    },
    {
     "data": {
      "image/png": "[encoded data removed]",
      "text/plain": [
       "<Figure size 360x360 with 2 Axes>"
      ]
     },
     "metadata": {},
     "output_type": "display_data"
    }
   ],
   "source": [
    "# prediction on testing set\n",
    "ypred_logistic_lite = grid_logistic_lite.predict(X_test_lite)\n",
    "\n",
    "# confusion matrix\n",
    "matrix_logistic_lite = confusion_matrix(y_test, ypred_logistic_lite)\n",
    "print(matrix_logistic_lite)\n",
    "\n",
    "# visualization\n",
    "fig, ax = plt.subplots(figsize=(5, 5))\n",
    "sns.heatmap(matrix_logistic_lite, square=True, annot=True, cmap='YlGnBu',fmt=\"d\")\n",
    "plt.xlabel('predicted label')\n",
    "plt.ylabel('true label')\n",
    "plt.savefig('confusionmatrix1.png')"
   ]
  },
  {
   "cell_type": "code",
   "execution_count": 47,
   "metadata": {
    "scrolled": false
   },
   "outputs": [
    {
     "name": "stdout",
     "output_type": "stream",
     "text": [
      "             precision    recall  f1-score   support\n",
      "\n",
      "          0       0.25      0.60      0.35      4262\n",
      "          1       0.83      0.53      0.65     16165\n",
      "\n",
      "avg / total       0.71      0.54      0.58     20427\n",
      "\n"
     ]
    }
   ],
   "source": [
    "# classification report\n",
    "print(classification_report(y_test_lite, ypred_logistic_lite))"
   ]
  },
  {
   "cell_type": "code",
   "execution_count": 48,
   "metadata": {},
   "outputs": [
    {
     "data": {
      "text/plain": [
       "0.5423703921280658"
      ]
     },
     "execution_count": 48,
     "metadata": {},
     "output_type": "execute_result"
    }
   ],
   "source": [
    "# accuracy score\n",
    "accuracy_score(y_test_lite, ypred_logistic_lite)"
   ]
  },
  {
   "cell_type": "code",
   "execution_count": 49,
   "metadata": {},
   "outputs": [
    {
     "data": {
      "image/png": "[encoded data removed]",
      "text/plain": [
       "<Figure size 432x288 with 1 Axes>"
      ]
     },
     "metadata": {},
     "output_type": "display_data"
    }
   ],
   "source": [
    "# ROC curve\n",
    "logistic_probs_lite = grid_logistic_lite.predict_proba(X_test_lite)\n",
    "logistic_probs_lite = logistic_probs_lite[:,1]\n",
    "fpr, tpr, threshold = roc_curve(y_test_lite, ypred_logistic_lite)\n",
    "logistic_roc_auc_lite = auc(fpr, tpr)\n",
    "\n",
    "plt.figure()\n",
    "plt.plot(fpr, tpr, label='Logistic Regression (area = %0.2f)' % logistic_roc_auc_lite)\n",
    "plt.plot([0, 1], [0, 1],'r--')\n",
    "plt.xlim([0.0, 1.0])\n",
    "plt.ylim([0.0, 1.05])\n",
    "plt.xlabel('False Positive Rate')\n",
    "plt.ylabel('True Positive Rate')\n",
    "plt.title('ROC Curve')\n",
    "plt.legend(loc=\"lower right\")\n",
    "plt.show()"
   ]
  },
  {
   "cell_type": "code",
   "execution_count": 121,
   "metadata": {},
   "outputs": [],
   "source": [
    "# visualize the coefficient\n",
    "def visualize_coefficients(coefficients, feature_names, n_top_features=10):\n",
    "    \"\"\"Visualize coefficients of a linear model.\n",
    "    Parameters\n",
    "    ----------\n",
    "    coefficients : nd-array, shape (n_features,)\n",
    "        Model coefficients.\n",
    "    feature_names : list or nd-array of strings, shape (n_features,)\n",
    "        Feature names for labeling the coefficients.\n",
    "    n_top_features : int, default=25\n",
    "        How many features to show. The function will show the largest (most\n",
    "        positive) and smallest (most negative)  n_top_features coefficients,\n",
    "        for a total of 2 * n_top_features coefficients.\n",
    "    \"\"\"\n",
    "    coefficients = coefficients.squeeze()\n",
    "    if coefficients.ndim > 1:\n",
    "        # this is not a row or column vector\n",
    "        raise ValueError(\"coeffients must be 1d array or column vector, got\"\n",
    "                         \" shape {}\".format(coefficients.shape))\n",
    "    coefficients = coefficients.ravel()\n",
    "\n",
    "    if len(coefficients) != len(feature_names):\n",
    "        raise ValueError(\"Number of coefficients {} doesn't match number of\"\n",
    "                         \"feature names {}.\".format(len(coefficients),\n",
    "                                                    len(feature_names)))\n",
    "    # get coefficients with large absolute values\n",
    "    coef = coefficients.ravel()\n",
    "    positive_coefficients = np.argsort(coef)[-n_top_features:]\n",
    "    negative_coefficients = np.argsort(coef)[:n_top_features]\n",
    "    interesting_coefficients = np.hstack([negative_coefficients,\n",
    "                                          positive_coefficients])\n",
    "    # plot them\n",
    "    plt.figure(figsize=(20, 8))\n",
    "    colors = ['#ff2020' if c < 0 else '#0000aa'\n",
    "              for c in coef[interesting_coefficients]]\n",
    "    plt.bar(np.arange(2 * n_top_features), coef[interesting_coefficients],\n",
    "            color=colors)\n",
    "    feature_names = np.array(feature_names)\n",
    "    plt.subplots_adjust(bottom=0.3)\n",
    "    plt.xticks(np.arange(1, 1 + 2 * n_top_features),\n",
    "               feature_names[interesting_coefficients], rotation=60,\n",
    "               ha=\"right\")\n",
    "    plt.ylabel(\"Coefficient magnitude\")\n",
    "    plt.xlabel(\"Feature\")\n",
    "    plt.savefig('coeficient.png')"
   ]
  },
  {
   "cell_type": "code",
   "execution_count": 51,
   "metadata": {
    "scrolled": false
   },
   "outputs": [
    {
     "data": {
      "image/png": "[encoded data removed]",
      "text/plain": [
       "<Figure size 1080x360 with 1 Axes>"
      ]
     },
     "metadata": {},
     "output_type": "display_data"
    }
   ],
   "source": [
    "lrcoefs_lite = LogisticRegression(C=0.1, penalty='l1').fit(X_train_lite,y_train_lite).coef_\n",
    "lrfeature_names_lite = X_train_lite.columns\n",
    "\n",
    "\n",
    "visualize_coefficients(lrcoefs_lite, lrfeature_names_lite, n_top_features=8)"
   ]
  },
  {
   "cell_type": "markdown",
   "metadata": {},
   "source": [
    "#### With review text"
   ]
  },
  {
   "cell_type": "code",
   "execution_count": 52,
   "metadata": {},
   "outputs": [
    {
     "data": {
      "text/plain": [
       "GridSearchCV(cv=10, error_score='raise',\n",
       "       estimator=LogisticRegression(C=1.0, class_weight=None, dual=False, fit_intercept=True,\n",
       "          intercept_scaling=1, max_iter=100, multi_class='ovr', n_jobs=1,\n",
       "          penalty='l2', random_state=43, solver='liblinear', tol=0.0001,\n",
       "          verbose=0, warm_start=False),\n",
       "       fit_params=None, iid=True, n_jobs=-1,\n",
       "       param_grid={'C': [0.01, 0.1, 1, 10, 100], 'penalty': ['l1', 'l2']},\n",
       "       pre_dispatch='2*n_jobs', refit=True, return_train_score='warn',\n",
       "       scoring=None, verbose=0)"
      ]
     },
     "execution_count": 52,
     "metadata": {},
     "output_type": "execute_result"
    }
   ],
   "source": [
    "# list the parameters\n",
    "param_grid_logistic = {'C': [0.01, 0.1, 1, 10, 100],\n",
    "                      'penalty':['l1', 'l2']}\n",
    "\n",
    "# tuning parameters using cross-validation\n",
    "grid_logistic = GridSearchCV(LogisticRegression(random_state=43), param_grid=param_grid_logistic, cv=10,n_jobs=-1)\n",
    "\n",
    "# fit the model\n",
    "grid_logistic.fit(X_train, y_train)"
   ]
  },
  {
   "cell_type": "code",
   "execution_count": 53,
   "metadata": {},
   "outputs": [
    {
     "name": "stdout",
     "output_type": "stream",
     "text": [
      "Best parameters:  {'C': 100, 'penalty': 'l1'}\n",
      "Best cross-validation score: 0.80\n",
      "Best test-set score: 0.813\n"
     ]
    }
   ],
   "source": [
    "# best parameter and score\n",
    "print(\"Best parameters: \", grid_logistic.best_params_)\n",
    "print(\"Best cross-validation score: {:.2f}\".format(grid_logistic.best_score_))\n",
    "print(\"Best test-set score: {:.3f}\".format(grid_logistic.score(X_test, y_test)))"
   ]
  },
  {
   "cell_type": "code",
   "execution_count": 54,
   "metadata": {},
   "outputs": [
    {
     "name": "stdout",
     "output_type": "stream",
     "text": [
      "[[ 3325   937]\n",
      " [ 2891 13274]]\n"
     ]
    },
    {
     "data": {
      "image/png": "[encoded data removed]",
      "text/plain": [
       "<Figure size 360x360 with 2 Axes>"
      ]
     },
     "metadata": {},
     "output_type": "display_data"
    }
   ],
   "source": [
    "# prediction on testing set\n",
    "ypred_logistic = grid_logistic.predict(X_test)\n",
    "\n",
    "# confusion matrix\n",
    "matrix_logistic = confusion_matrix(y_test, ypred_logistic)\n",
    "print(matrix_logistic)\n",
    "\n",
    "# visualization\n",
    "fig, ax = plt.subplots(figsize=(5, 5))\n",
    "sns.heatmap(matrix_logistic, square=True, annot=True, cmap='YlGnBu',fmt=\"d\")\n",
    "plt.xlabel('predicted label')\n",
    "plt.ylabel('true label')\n",
    "plt.savefig('confusionmatrix2.png')"
   ]
  },
  {
   "cell_type": "code",
   "execution_count": 55,
   "metadata": {},
   "outputs": [
    {
     "name": "stdout",
     "output_type": "stream",
     "text": [
      "             precision    recall  f1-score   support\n",
      "\n",
      "          0       0.53      0.78      0.63      4262\n",
      "          1       0.93      0.82      0.87     16165\n",
      "\n",
      "avg / total       0.85      0.81      0.82     20427\n",
      "\n"
     ]
    }
   ],
   "source": [
    "# classification report\n",
    "print(classification_report(y_test, ypred_logistic))"
   ]
  },
  {
   "cell_type": "code",
   "execution_count": 56,
   "metadata": {},
   "outputs": [
    {
     "data": {
      "text/plain": [
       "0.8126009693053312"
      ]
     },
     "execution_count": 56,
     "metadata": {},
     "output_type": "execute_result"
    }
   ],
   "source": [
    "# accuracy score\n",
    "accuracy_score(y_test, ypred_logistic)"
   ]
  },
  {
   "cell_type": "code",
   "execution_count": 57,
   "metadata": {},
   "outputs": [
    {
     "data": {
      "image/png": "[encoded data removed]",
      "text/plain": [
       "<Figure size 432x288 with 1 Axes>"
      ]
     },
     "metadata": {},
     "output_type": "display_data"
    }
   ],
   "source": [
    "# ROC curve\n",
    "logistic_probs = grid_logistic.predict_proba(X_test)\n",
    "logistic_probs = logistic_probs[:,1]\n",
    "fpr, tpr, threshold = roc_curve(y_test, ypred_logistic)\n",
    "logistic_roc_auc = auc(fpr, tpr)\n",
    "\n",
    "plt.figure()\n",
    "plt.plot(fpr, tpr, label='Logistic Regression (area = %0.2f)' % logistic_roc_auc)\n",
    "plt.plot([0, 1], [0, 1],'r--')\n",
    "plt.xlim([0.0, 1.0])\n",
    "plt.ylim([0.0, 1.05])\n",
    "plt.xlabel('False Positive Rate')\n",
    "plt.ylabel('True Positive Rate')\n",
    "plt.title('ROC Curve')\n",
    "plt.legend(loc=\"lower right\")\n",
    "plt.show()"
   ]
  },
  {
   "cell_type": "code",
   "execution_count": 127,
   "metadata": {},
   "outputs": [
    {
     "data": {
      "image/png": "[encoded data removed]",
      "text/plain": [
       "<Figure size 1440x576 with 1 Axes>"
      ]
     },
     "metadata": {},
     "output_type": "display_data"
    }
   ],
   "source": [
    "lrcoefs = LogisticRegression(C=100, penalty='l1').fit(X_test,y_test).coef_\n",
    "lrfeature_names = X_test.columns\n",
    "\n",
    "\n",
    "visualize_coefficients(lrcoefs, lrfeature_names, n_top_features=25)"
   ]
  },
  {
   "cell_type": "markdown",
   "metadata": {},
   "source": [
    "### 2.2 SVM"
   ]
  },
  {
   "cell_type": "markdown",
   "metadata": {},
   "source": [
    "#### without review text"
   ]
  },
  {
   "cell_type": "code",
   "execution_count": 74,
   "metadata": {},
   "outputs": [
    {
     "data": {
      "text/plain": [
       "GridSearchCV(cv=10, error_score='raise',\n",
       "       estimator=BaggingClassifier(base_estimator=SVC(C=1.0, cache_size=200, class_weight=None, coef0=0.0,\n",
       "  decision_function_shape='ovr', degree=3, gamma='auto', kernel='rbf',\n",
       "  max_iter=-1, probability=False, random_state=101, shrinking=True,\n",
       "  tol=0.001, verbose=False),\n",
       "         bootstrap=True, bootstrap_features=False, max_features=1.0,\n",
       "         max_samples=0.2, n_estimators=5, n_jobs=1, oob_score=False,\n",
       "         random_state=None, verbose=0, warm_start=False),\n",
       "       fit_params=None, iid=True, n_jobs=-1,\n",
       "       param_grid={'base_estimator__C': [1, 5, 10, 50], 'base_estimator__gamma': [0.0005, 0.001]},\n",
       "       pre_dispatch='2*n_jobs', refit=True, return_train_score='warn',\n",
       "       scoring=None, verbose=0)"
      ]
     },
     "execution_count": 74,
     "metadata": {},
     "output_type": "execute_result"
    }
   ],
   "source": [
    "# list the parameters\n",
    "param_grid_svc_lite = {'base_estimator__C': [1, 5, 10, 50],\n",
    "                       'base_estimator__gamma': [0.0005, 0.001]}\n",
    "\n",
    "# tuning parameters using cross-validation\n",
    "grid_svc_lite = GridSearchCV(BaggingClassifier(SVC(kernel='rbf', random_state=101), max_samples=1.0 / 5,n_estimators=5), param_grid=param_grid_svc_lite, cv=10, n_jobs=-1)\n",
    "\n",
    "# fit the model\n",
    "grid_svc_lite.fit(X_train_lite, y_train_lite)"
   ]
  },
  {
   "cell_type": "code",
   "execution_count": 75,
   "metadata": {},
   "outputs": [
    {
     "name": "stdout",
     "output_type": "stream",
     "text": [
      "Best parameters:  {'base_estimator__C': 50, 'base_estimator__gamma': 0.0005}\n",
      "Best cross-validation score: 0.55\n",
      "Best test-set score: 0.550\n"
     ]
    }
   ],
   "source": [
    "# best parameter and score\n",
    "print(\"Best parameters: \", grid_svc_lite.best_params_)\n",
    "print(\"Best cross-validation score: {:.2f}\".format(grid_svc_lite.best_score_))\n",
    "print(\"Best test-set score: {:.3f}\".format(grid_svc_lite.score(X_test_lite, y_test_lite)))"
   ]
  },
  {
   "cell_type": "code",
   "execution_count": 77,
   "metadata": {},
   "outputs": [
    {
     "name": "stdout",
     "output_type": "stream",
     "text": [
      "[[2466 1796]\n",
      " [7391 8774]]\n"
     ]
    },
    {
     "data": {
      "image/png": "[encoded data removed]",
      "text/plain": [
       "<Figure size 360x360 with 2 Axes>"
      ]
     },
     "metadata": {},
     "output_type": "display_data"
    }
   ],
   "source": [
    "# prediction on testing set\n",
    "ypred_svc_lite = grid_svc_lite.predict(X_test_lite)\n",
    "\n",
    "# confusion matrix\n",
    "matrix_svc_lite = confusion_matrix(y_test_lite, ypred_svc_lite)\n",
    "print(matrix_svc_lite)\n",
    "\n",
    "# visualization\n",
    "fig, ax = plt.subplots(figsize=(5, 5))\n",
    "sns.heatmap(matrix_svc_lite, square=True, annot=True, cmap='YlGnBu',fmt=\"d\")\n",
    "plt.xlabel('predicted label')\n",
    "plt.ylabel('true label')\n",
    "plt.savefig('confusionmatrix7.png')"
   ]
  },
  {
   "cell_type": "code",
   "execution_count": 78,
   "metadata": {},
   "outputs": [
    {
     "name": "stdout",
     "output_type": "stream",
     "text": [
      "             precision    recall  f1-score   support\n",
      "\n",
      "          0       0.25      0.58      0.35      4262\n",
      "          1       0.83      0.54      0.66     16165\n",
      "\n",
      "avg / total       0.71      0.55      0.59     20427\n",
      "\n"
     ]
    }
   ],
   "source": [
    "# classification report\n",
    "print(classification_report(y_test_lite, ypred_svc_lite))"
   ]
  },
  {
   "cell_type": "code",
   "execution_count": null,
   "metadata": {},
   "outputs": [],
   "source": [
    "# accuracy score\n",
    "accuracy_score(y_test_lite, ypred_svc_lite)"
   ]
  },
  {
   "cell_type": "code",
   "execution_count": null,
   "metadata": {},
   "outputs": [],
   "source": [
    "# ROC curve\n",
    "svc_probs_lite = grid_svc_lite.predict_proba(X_test_lite)\n",
    "svc_probs_lite = svc_probs_lite[:,1]\n",
    "fpr, tpr, threshold = roc_curve(y_test_lite, ypred_svc_lite)\n",
    "svc_roc_auc_lite = auc(fpr, tpr)\n",
    "\n",
    "plt.figure()\n",
    "plt.plot(fpr, tpr, label='Support Vector Machines (area = %0.2f)' % svc_roc_auc_lite)\n",
    "plt.plot([0, 1], [0, 1],'r--')\n",
    "plt.xlim([0.0, 1.0])\n",
    "plt.ylim([0.0, 1.05])\n",
    "plt.xlabel('False Positive Rate')\n",
    "plt.ylabel('True Positive Rate')\n",
    "plt.title('ROC Curve')\n",
    "plt.legend(loc=\"lower right\")\n",
    "plt.savefig('Log_ROC')\n",
    "plt.show()"
   ]
  },
  {
   "cell_type": "markdown",
   "metadata": {},
   "source": [
    "#### with review text"
   ]
  },
  {
   "cell_type": "code",
   "execution_count": 79,
   "metadata": {},
   "outputs": [
    {
     "data": {
      "text/plain": [
       "GridSearchCV(cv=10, error_score='raise',\n",
       "       estimator=BaggingClassifier(base_estimator=SVC(C=1.0, cache_size=200, class_weight=None, coef0=0.0,\n",
       "  decision_function_shape='ovr', degree=3, gamma='auto', kernel='linear',\n",
       "  max_iter=-1, probability=False, random_state=101, shrinking=True,\n",
       "  tol=0.001, verbose=False),\n",
       "         bootstrap=True, bootstrap_features=False, max_features=1.0,\n",
       "         max_samples=0.2, n_estimators=5, n_jobs=1, oob_score=False,\n",
       "         random_state=None, verbose=0, warm_start=False),\n",
       "       fit_params=None, iid=True, n_jobs=-1,\n",
       "       param_grid={'base_estimator__C': [1, 5, 10]},\n",
       "       pre_dispatch='2*n_jobs', refit=True, return_train_score='warn',\n",
       "       scoring=None, verbose=0)"
      ]
     },
     "execution_count": 79,
     "metadata": {},
     "output_type": "execute_result"
    }
   ],
   "source": [
    "# list the parameters\n",
    "param_grid_svc = {'base_estimator__C': [1, 5, 10]}\n",
    "\n",
    "# tuning parameters using cross-validation\n",
    "grid_svc = GridSearchCV(BaggingClassifier(SVC(kernel='linear', random_state=101), max_samples=1.0 / 5,n_estimators=5), param_grid=param_grid_svc, cv=10, n_jobs=-1)\n",
    "\n",
    "# fit the model\n",
    "grid_svc.fit(X_train, y_train)"
   ]
  },
  {
   "cell_type": "code",
   "execution_count": 80,
   "metadata": {},
   "outputs": [
    {
     "name": "stdout",
     "output_type": "stream",
     "text": [
      "Best parameters:  {'base_estimator__C': 10}\n",
      "Best cross-validation score: 0.80\n",
      "Best test-set score: 0.817\n"
     ]
    }
   ],
   "source": [
    "# best parameter and score\n",
    "print(\"Best parameters: \", grid_svc.best_params_)\n",
    "print(\"Best cross-validation score: {:.2f}\".format(grid_svc.best_score_))\n",
    "print(\"Best test-set score: {:.3f}\".format(grid_svc.score(X_test, y_test)))"
   ]
  },
  {
   "cell_type": "code",
   "execution_count": 81,
   "metadata": {},
   "outputs": [
    {
     "name": "stdout",
     "output_type": "stream",
     "text": [
      "[[ 3289   973]\n",
      " [ 2775 13390]]\n"
     ]
    },
    {
     "data": {
      "image/png": "[encoded data removed]",
      "text/plain": [
       "<Figure size 360x360 with 2 Axes>"
      ]
     },
     "metadata": {},
     "output_type": "display_data"
    }
   ],
   "source": [
    "# prediction on testing set\n",
    "ypred_svc = grid_svc.predict(X_test)\n",
    "\n",
    "# confusion matrix\n",
    "matrix_svc = confusion_matrix(y_test, ypred_svc)\n",
    "print(matrix_svc)\n",
    "\n",
    "# visualization\n",
    "fig, ax = plt.subplots(figsize=(5, 5))\n",
    "sns.heatmap(matrix_svc, square=True, annot=True, cmap='YlGnBu',fmt=\"d\")\n",
    "plt.xlabel('predicted label')\n",
    "plt.ylabel('true label')\n",
    "plt.savefig('confusionmatrix8.png')"
   ]
  },
  {
   "cell_type": "code",
   "execution_count": 82,
   "metadata": {},
   "outputs": [
    {
     "name": "stdout",
     "output_type": "stream",
     "text": [
      "             precision    recall  f1-score   support\n",
      "\n",
      "          0       0.54      0.77      0.64      4262\n",
      "          1       0.93      0.83      0.88     16165\n",
      "\n",
      "avg / total       0.85      0.82      0.83     20427\n",
      "\n"
     ]
    }
   ],
   "source": [
    "# classification report\n",
    "print(classification_report(y_test, ypred_svc))"
   ]
  },
  {
   "cell_type": "markdown",
   "metadata": {},
   "source": [
    "### 2.3 Random Forest Tree"
   ]
  },
  {
   "cell_type": "markdown",
   "metadata": {},
   "source": [
    "#### without review text"
   ]
  },
  {
   "cell_type": "code",
   "execution_count": 59,
   "metadata": {},
   "outputs": [
    {
     "data": {
      "text/plain": [
       "GridSearchCV(cv=10, error_score='raise',\n",
       "       estimator=RandomForestClassifier(bootstrap=True, class_weight=None, criterion='gini',\n",
       "            max_depth=None, max_features='auto', max_leaf_nodes=None,\n",
       "            min_impurity_decrease=0.0, min_impurity_split=None,\n",
       "            min_samples_leaf=1, min_samples_split=2,\n",
       "            min_weight_fraction_leaf=0.0, n_estimators=10, n_jobs=-1,\n",
       "            oob_score=False, random_state=46, verbose=0, warm_start=False),\n",
       "       fit_params=None, iid=True, n_jobs=-1,\n",
       "       param_grid={'n_estimators': [100, 200, 400]},\n",
       "       pre_dispatch='2*n_jobs', refit=True, return_train_score='warn',\n",
       "       scoring=None, verbose=0)"
      ]
     },
     "execution_count": 59,
     "metadata": {},
     "output_type": "execute_result"
    }
   ],
   "source": [
    "# list the parameters\n",
    "param_grid_rf_lite = {'n_estimators': [100, 200, 400]}\n",
    "\n",
    "# tuning parameters using cross-validation\n",
    "grid_rf_lite = GridSearchCV(RandomForestClassifier(random_state=46, n_jobs=-1), param_grid=param_grid_rf_lite, cv=10,n_jobs=-1)\n",
    "\n",
    "# fit the model\n",
    "grid_rf_lite.fit(X_train_lite, y_train_lite)"
   ]
  },
  {
   "cell_type": "code",
   "execution_count": 60,
   "metadata": {},
   "outputs": [
    {
     "name": "stdout",
     "output_type": "stream",
     "text": [
      "Best parameters:  {'n_estimators': 100}\n",
      "Best cross-validation score: 0.55\n",
      "Best test-set score: 0.540\n"
     ]
    }
   ],
   "source": [
    "# best parameter and score\n",
    "print(\"Best parameters: \", grid_rf_lite.best_params_)\n",
    "print(\"Best cross-validation score: {:.2f}\".format(grid_rf_lite.best_score_))\n",
    "print(\"Best test-set score: {:.3f}\".format(grid_rf_lite.score(X_test_lite, y_test_lite)))"
   ]
  },
  {
   "cell_type": "code",
   "execution_count": 61,
   "metadata": {},
   "outputs": [
    {
     "name": "stdout",
     "output_type": "stream",
     "text": [
      "[[2549 1713]\n",
      " [7689 8476]]\n"
     ]
    },
    {
     "data": {
      "image/png": "[encoded data removed]",
      "text/plain": [
       "<Figure size 360x360 with 2 Axes>"
      ]
     },
     "metadata": {},
     "output_type": "display_data"
    }
   ],
   "source": [
    "# prediction on testing set\n",
    "ypred_rf_lite = grid_rf_lite.predict(X_test_lite)\n",
    "\n",
    "# confusion matrix\n",
    "matrix_rf_lite = confusion_matrix(y_test_lite, ypred_rf_lite)\n",
    "print(matrix_rf_lite)\n",
    "\n",
    "# visualization\n",
    "fig, ax = plt.subplots(figsize=(5, 5))\n",
    "sns.heatmap(matrix_rf_lite, square=True, annot=True, cmap='YlGnBu',fmt=\"d\")\n",
    "plt.xlabel('predicted label')\n",
    "plt.ylabel('true label')\n",
    "plt.savefig('confusionmatrix3.png')"
   ]
  },
  {
   "cell_type": "code",
   "execution_count": 62,
   "metadata": {},
   "outputs": [
    {
     "name": "stdout",
     "output_type": "stream",
     "text": [
      "             precision    recall  f1-score   support\n",
      "\n",
      "          0       0.25      0.60      0.35      4262\n",
      "          1       0.83      0.52      0.64     16165\n",
      "\n",
      "avg / total       0.71      0.54      0.58     20427\n",
      "\n"
     ]
    }
   ],
   "source": [
    "# classification report\n",
    "print(classification_report(y_test_lite, ypred_rf_lite))"
   ]
  },
  {
   "cell_type": "code",
   "execution_count": 63,
   "metadata": {},
   "outputs": [
    {
     "data": {
      "text/plain": [
       "0.5397268321339403"
      ]
     },
     "execution_count": 63,
     "metadata": {},
     "output_type": "execute_result"
    }
   ],
   "source": [
    "# accuracy score\n",
    "accuracy_score(y_test_lite, ypred_rf_lite)"
   ]
  },
  {
   "cell_type": "code",
   "execution_count": 64,
   "metadata": {},
   "outputs": [
    {
     "data": {
      "image/png": "[encoded data removed]",
      "text/plain": [
       "<Figure size 432x288 with 1 Axes>"
      ]
     },
     "metadata": {},
     "output_type": "display_data"
    }
   ],
   "source": [
    "# ROC curve\n",
    "rf_probs_lite = grid_rf_lite.predict_proba(X_test_lite)\n",
    "rf_probs_lite = rf_probs_lite[:,1]\n",
    "fpr, tpr, threshold = roc_curve(y_test_lite, ypred_rf_lite)\n",
    "rf_roc_auc_lite = auc(fpr, tpr)\n",
    "\n",
    "plt.figure()\n",
    "plt.plot(fpr, tpr, label='Random Forest Trees (area = %0.2f)' % rf_roc_auc_lite)\n",
    "plt.plot([0, 1], [0, 1],'r--')\n",
    "plt.xlim([0.0, 1.0])\n",
    "plt.ylim([0.0, 1.05])\n",
    "plt.xlabel('False Positive Rate')\n",
    "plt.ylabel('True Positive Rate')\n",
    "plt.title('ROC Curve')\n",
    "plt.legend(loc=\"lower right\")\n",
    "plt.savefig('Log_ROC')\n",
    "plt.show()"
   ]
  },
  {
   "cell_type": "code",
   "execution_count": 67,
   "metadata": {},
   "outputs": [
    {
     "data": {
      "image/png": "[encoded data removed]",
      "text/plain": [
       "<Figure size 720x360 with 1 Axes>"
      ]
     },
     "metadata": {},
     "output_type": "display_data"
    }
   ],
   "source": [
    "# feature importance\n",
    "bestrf_lite = RandomForestClassifier(n_estimators = 100, random_state=1).fit(X_train_lite,y_train_lite)\n",
    "importances = bestrf_lite.feature_importances_\n",
    "\n",
    "# visualization\n",
    "# Sort feature importances in descending order\n",
    "indices = np.argsort(importances)[:]\n",
    "\n",
    "# Get feature names\n",
    "feature_names = X_train_lite.columns\n",
    "\n",
    "# Rearrange feature names so they match the sorted feature importances\n",
    "names = [feature_names[i] for i in indices]\n",
    "\n",
    "# Create plot\n",
    "plt.figure(figsize=(10, 5))\n",
    "\n",
    "# Create plot title\n",
    "plt.title(\"Feature Importance\")\n",
    "\n",
    "# Add bars\n",
    "plt.bar(range(16), importances[indices])\n",
    "\n",
    "# Add feature names as x-axis labels\n",
    "plt.xticks(range(16), names, rotation=90)\n",
    "\n",
    "# Show plot\n",
    "plt.show()"
   ]
  },
  {
   "cell_type": "markdown",
   "metadata": {},
   "source": [
    "#### with review text"
   ]
  },
  {
   "cell_type": "code",
   "execution_count": 66,
   "metadata": {},
   "outputs": [
    {
     "data": {
      "text/plain": [
       "GridSearchCV(cv=10, error_score='raise',\n",
       "       estimator=RandomForestClassifier(bootstrap=True, class_weight=None, criterion='gini',\n",
       "            max_depth=None, max_features='auto', max_leaf_nodes=None,\n",
       "            min_impurity_decrease=0.0, min_impurity_split=None,\n",
       "            min_samples_leaf=1, min_samples_split=2,\n",
       "            min_weight_fraction_leaf=0.0, n_estimators=10, n_jobs=-1,\n",
       "            oob_score=False, random_state=47, verbose=0, warm_start=False),\n",
       "       fit_params=None, iid=True, n_jobs=-1,\n",
       "       param_grid={'n_estimators': [100, 200, 400]},\n",
       "       pre_dispatch='2*n_jobs', refit=True, return_train_score='warn',\n",
       "       scoring=None, verbose=0)"
      ]
     },
     "execution_count": 66,
     "metadata": {},
     "output_type": "execute_result"
    }
   ],
   "source": [
    "# list the parameters\n",
    "param_grid_rf = {'n_estimators': [100, 200, 400]}\n",
    "\n",
    "# tuning parameters using cross-validation\n",
    "grid_rf = GridSearchCV(RandomForestClassifier(random_state=47, n_jobs=-1), param_grid=param_grid_rf, cv=10,n_jobs=-1)\n",
    "\n",
    "# fit the model\n",
    "grid_rf.fit(X_train, y_train)"
   ]
  },
  {
   "cell_type": "code",
   "execution_count": 68,
   "metadata": {},
   "outputs": [
    {
     "name": "stdout",
     "output_type": "stream",
     "text": [
      "Best parameters:  {'n_estimators': 400}\n",
      "Best cross-validation score: 0.80\n",
      "Best test-set score: 0.816\n"
     ]
    }
   ],
   "source": [
    "# best parameter and score\n",
    "print(\"Best parameters: \", grid_rf.best_params_)\n",
    "print(\"Best cross-validation score: {:.2f}\".format(grid_rf.best_score_))\n",
    "print(\"Best test-set score: {:.3f}\".format(grid_rf.score(X_test, y_test)))"
   ]
  },
  {
   "cell_type": "code",
   "execution_count": 69,
   "metadata": {},
   "outputs": [
    {
     "name": "stdout",
     "output_type": "stream",
     "text": [
      "[[ 3302   960]\n",
      " [ 2807 13358]]\n"
     ]
    },
    {
     "data": {
      "image/png": "[encoded data removed]",
      "text/plain": [
       "<Figure size 360x360 with 2 Axes>"
      ]
     },
     "metadata": {},
     "output_type": "display_data"
    }
   ],
   "source": [
    "# prediction on testing set\n",
    "ypred_rf = grid_rf.predict(X_test)\n",
    "\n",
    "# confusion matrix\n",
    "matrix_rf = confusion_matrix(y_test, ypred_rf)\n",
    "print(matrix_rf)\n",
    "\n",
    "# visualization\n",
    "fig, ax = plt.subplots(figsize=(5, 5))\n",
    "sns.heatmap(matrix_rf, square=True, annot=True, cmap='YlGnBu',fmt=\"d\")\n",
    "plt.xlabel('predicted label')\n",
    "plt.ylabel('true label')\n",
    "plt.savefig('confusionmatrix4.png')"
   ]
  },
  {
   "cell_type": "code",
   "execution_count": 70,
   "metadata": {},
   "outputs": [
    {
     "name": "stdout",
     "output_type": "stream",
     "text": [
      "             precision    recall  f1-score   support\n",
      "\n",
      "          0       0.54      0.77      0.64      4262\n",
      "          1       0.93      0.83      0.88     16165\n",
      "\n",
      "avg / total       0.85      0.82      0.83     20427\n",
      "\n"
     ]
    }
   ],
   "source": [
    "# classification report\n",
    "print(classification_report(y_test, ypred_rf))"
   ]
  },
  {
   "cell_type": "code",
   "execution_count": 71,
   "metadata": {},
   "outputs": [
    {
     "data": {
      "text/plain": [
       "0.8155872130023988"
      ]
     },
     "execution_count": 71,
     "metadata": {},
     "output_type": "execute_result"
    }
   ],
   "source": [
    "# accuracy score\n",
    "accuracy_score(y_test, ypred_rf)"
   ]
  },
  {
   "cell_type": "code",
   "execution_count": 72,
   "metadata": {},
   "outputs": [
    {
     "data": {
      "image/png": "[encoded data removed]",
      "text/plain": [
       "<Figure size 432x288 with 1 Axes>"
      ]
     },
     "metadata": {},
     "output_type": "display_data"
    }
   ],
   "source": [
    "# ROC curve\n",
    "rf_probs = grid_rf.predict_proba(X_test)\n",
    "rf_probs = rf_probs[:,1]\n",
    "fpr, tpr, threshold = roc_curve(y_test, ypred_rf)\n",
    "rf_roc_auc = auc(fpr, tpr)\n",
    "\n",
    "plt.figure()\n",
    "plt.plot(fpr, tpr, label='Random Forest Trees (area = %0.2f)' % rf_roc_auc)\n",
    "plt.plot([0, 1], [0, 1],'r--')\n",
    "plt.xlim([0.0, 1.0])\n",
    "plt.ylim([0.0, 1.05])\n",
    "plt.xlabel('False Positive Rate')\n",
    "plt.ylabel('True Positive Rate')\n",
    "plt.title('ROC Curve')\n",
    "plt.legend(loc=\"lower right\")\n",
    "plt.savefig('Log_ROC')\n",
    "plt.show()"
   ]
  },
  {
   "cell_type": "code",
   "execution_count": 129,
   "metadata": {},
   "outputs": [],
   "source": [
    "# feature importance\n",
    "bestrf = RandomForestClassifier(n_estimators = 400, random_state=1).fit(X_test,y_test)\n",
    "importances2 = bestrf.feature_importances_"
   ]
  },
  {
   "cell_type": "code",
   "execution_count": 135,
   "metadata": {},
   "outputs": [
    {
     "data": {
      "image/png": "[encoded data removed]",
      "text/plain": [
       "<Figure size 1440x360 with 1 Axes>"
      ]
     },
     "metadata": {},
     "output_type": "display_data"
    }
   ],
   "source": [
    "# visualization\n",
    "# Sort feature importances in descending order\n",
    "indices2 = np.argsort(importances2)[:51]\n",
    "\n",
    "# Get feature names\n",
    "feature_names2 = X_test.columns\n",
    "\n",
    "# Rearrange feature names so they match the sorted feature importances\n",
    "names2 = [feature_names2[i] for i in indices2]\n",
    "\n",
    "# Create plot\n",
    "plt.figure(figsize=(20, 5))\n",
    "\n",
    "# Create plot title\n",
    "plt.title(\"Feature Importance\")\n",
    "\n",
    "# Add bars\n",
    "plt.bar(range(len(indices2)), importances2[indices2])\n",
    "\n",
    "# Add feature names as x-axis labels\n",
    "plt.xticks(range(len(indices2)), names2, rotation=90)\n",
    "\n",
    "# Show plot\n",
    "plt.savefig('feature importance.png')"
   ]
  },
  {
   "cell_type": "markdown",
   "metadata": {},
   "source": [
    "### 2.4 Neural Network"
   ]
  },
  {
   "cell_type": "markdown",
   "metadata": {},
   "source": [
    "#### without review text"
   ]
  },
  {
   "cell_type": "code",
   "execution_count": 83,
   "metadata": {},
   "outputs": [],
   "source": [
    "# one hot encode y_train and y_test using to_categorical()\n",
    "le.fit(y_train_lite)\n",
    "new_y_train_lite = le.transform(y_train_lite)\n",
    "\n",
    "le.fit(y_test_lite)\n",
    "new_y_test_lite = le.transform(y_test_lite)\n",
    "\n",
    "encoded_y_train_lite = to_categorical(new_y_train_lite)\n",
    "encoded_y_test_lite = to_categorical(new_y_test_lite)"
   ]
  },
  {
   "cell_type": "code",
   "execution_count": 84,
   "metadata": {},
   "outputs": [
    {
     "data": {
      "text/plain": [
       "GridSearchCV(cv=None, error_score='raise',\n",
       "       estimator=<keras.wrappers.scikit_learn.KerasClassifier object at 0x3093537f0>,\n",
       "       fit_params=None, iid=True, n_jobs=1,\n",
       "       param_grid={'neurons': [10, 20, 30], 'epochs': [40, 60], 'batch_size': [600, 800]},\n",
       "       pre_dispatch='2*n_jobs', refit=True, return_train_score='warn',\n",
       "       scoring=None, verbose=0)"
      ]
     },
     "execution_count": 84,
     "metadata": {},
     "output_type": "execute_result"
    }
   ],
   "source": [
    "# build model\n",
    "input_dim_lite = X_train_lite.shape[1]\n",
    "num_classes = 2\n",
    "\n",
    "def create_model(neurons):\n",
    "    # create model\n",
    "    model = Sequential()\n",
    "    model.add(Dense(neurons, input_dim=input_dim_lite, activation='relu'))\n",
    "    model.add(Dense(neurons, activation='relu'))\n",
    "    model.add(Dense(num_classes, activation='softmax'))\n",
    "    \n",
    "    # Compile model\n",
    "    sgd = SGD(lr=0.01)\n",
    "    model.compile(loss='binary_crossentropy', optimizer=sgd, metrics=['accuracy'])\n",
    "    return model\n",
    "\n",
    "#call model function in KerasClassifier\n",
    "model = KerasClassifier(build_fn=create_model, verbose=0)\n",
    "\n",
    "# define the grid search parameters\n",
    "param_grid_nn_lite = {'neurons':[10, 20, 30],\n",
    "                   'epochs':[40, 60],\n",
    "                   'batch_size':[600, 800]}\n",
    "grid_nn_lite = GridSearchCV(estimator=model, param_grid=param_grid_nn_lite)\n",
    "grid_nn_lite.fit(X_train_lite, encoded_y_train_lite)"
   ]
  },
  {
   "cell_type": "code",
   "execution_count": 85,
   "metadata": {},
   "outputs": [
    {
     "name": "stdout",
     "output_type": "stream",
     "text": [
      "Best parameters:  {'batch_size': 800, 'epochs': 60, 'neurons': 20}\n",
      "Best cross-validation score: 0.18\n",
      "Best test-set score: 0.541\n"
     ]
    }
   ],
   "source": [
    "# best parameter and score\n",
    "print(\"Best parameters: \", grid_nn_lite.best_params_)\n",
    "print(\"Best cross-validation score: {:.2f}\".format(grid_nn_lite.best_score_))\n",
    "print(\"Best test-set score: {:.3f}\".format(grid_nn_lite.score(X_test_lite, encoded_y_test_lite)))"
   ]
  },
  {
   "cell_type": "code",
   "execution_count": 86,
   "metadata": {},
   "outputs": [
    {
     "name": "stdout",
     "output_type": "stream",
     "text": [
      "[[2311 1951]\n",
      " [7420 8745]]\n"
     ]
    },
    {
     "data": {
      "image/png": "[encoded data removed]",
      "text/plain": [
       "<Figure size 360x360 with 2 Axes>"
      ]
     },
     "metadata": {},
     "output_type": "display_data"
    }
   ],
   "source": [
    "# prediction on testing set\n",
    "ypred_nn_lite = grid_nn_lite.predict(X_test_lite)\n",
    "\n",
    "# confusion matrix\n",
    "matrix_nn_lite = confusion_matrix(encoded_y_test_lite.argmax(axis=1), ypred_nn_lite)\n",
    "print(matrix_nn_lite)\n",
    "\n",
    "# visualization\n",
    "fig, ax = plt.subplots(figsize=(5, 5))\n",
    "sns.heatmap(matrix_nn_lite, square=True, annot=True, cmap='YlGnBu',fmt=\"d\")\n",
    "plt.xlabel('predicted label')\n",
    "plt.ylabel('true label')\n",
    "plt.savefig('confusionmatrix5.png')"
   ]
  },
  {
   "cell_type": "code",
   "execution_count": 87,
   "metadata": {},
   "outputs": [
    {
     "name": "stdout",
     "output_type": "stream",
     "text": [
      "             precision    recall  f1-score   support\n",
      "\n",
      "          0       0.24      0.54      0.33      4262\n",
      "          1       0.82      0.54      0.65     16165\n",
      "\n",
      "avg / total       0.70      0.54      0.58     20427\n",
      "\n"
     ]
    }
   ],
   "source": [
    "# classification report\n",
    "print(classification_report(encoded_y_test_lite.argmax(axis=1), ypred_nn_lite))"
   ]
  },
  {
   "cell_type": "code",
   "execution_count": 97,
   "metadata": {},
   "outputs": [],
   "source": [
    "# define model\n",
    "model_lite = Sequential()\n",
    "model_lite.add(Dense(20, input_dim=input_dim_lite, activation='relu'))\n",
    "model_lite.add(Dense(20, activation='relu'))\n",
    "model_lite.add(Dense(2, activation='softmax'))\n",
    "# compile model\n",
    "sgd = SGD(lr=0.01)\n",
    "model_lite.compile(loss='binary_crossentropy', optimizer=sgd, metrics=['accuracy'])\n",
    "# fit model\n",
    "history_lite = model_lite.fit(X_train_lite, encoded_y_train_lite, validation_data=(X_test_lite, encoded_y_test_lite), epochs=60, batch_size=800, verbose=0)"
   ]
  },
  {
   "cell_type": "code",
   "execution_count": 98,
   "metadata": {},
   "outputs": [
    {
     "data": {
      "image/png": "[encoded data removed]",
      "text/plain": [
       "<Figure size 720x720 with 2 Axes>"
      ]
     },
     "metadata": {},
     "output_type": "display_data"
    }
   ],
   "source": [
    "plt.figure(figsize=(10, 10))\n",
    "\n",
    "plt.subplot(211)\n",
    "\n",
    "plt.title('Loss')\n",
    "plt.plot(history_lite.history['loss'], label='train')\n",
    "plt.plot(history_lite.history['val_loss'], label='test')\n",
    "plt.xlabel('Epochs')\n",
    "plt.legend()\n",
    "\n",
    "plt.subplot(212)\n",
    "\n",
    "plt.title('Accuracy')\n",
    "plt.plot(history_lite.history['acc'], label='train')\n",
    "plt.plot(history_lite.history['val_acc'], label='test')\n",
    "plt.xlabel('Epochs')\n",
    "plt.legend()\n",
    "plt.savefig('Loss & Accuracy1.png')"
   ]
  },
  {
   "cell_type": "markdown",
   "metadata": {},
   "source": [
    "#### with review text"
   ]
  },
  {
   "cell_type": "code",
   "execution_count": 90,
   "metadata": {},
   "outputs": [],
   "source": [
    "# one hot encode y_train and y_test using to_categorical()\n",
    "le.fit(y_train)\n",
    "new_y_train = le.transform(y_train)\n",
    "\n",
    "le.fit(y_test)\n",
    "new_y_test = le.transform(y_test)\n",
    "\n",
    "encoded_y_train = to_categorical(new_y_train)\n",
    "encoded_y_test = to_categorical(new_y_test)"
   ]
  },
  {
   "cell_type": "code",
   "execution_count": 91,
   "metadata": {},
   "outputs": [
    {
     "data": {
      "text/plain": [
       "GridSearchCV(cv=None, error_score='raise',\n",
       "       estimator=<keras.wrappers.scikit_learn.KerasClassifier object at 0x1a89e3c6d8>,\n",
       "       fit_params=None, iid=True, n_jobs=1,\n",
       "       param_grid={'neurons': [10, 20, 30], 'epochs': [40, 60], 'batch_size': [600, 800]},\n",
       "       pre_dispatch='2*n_jobs', refit=True, return_train_score='warn',\n",
       "       scoring=None, verbose=0)"
      ]
     },
     "execution_count": 91,
     "metadata": {},
     "output_type": "execute_result"
    }
   ],
   "source": [
    "# build model\n",
    "input_dim = X_train.shape[1]\n",
    "num_classes = 2\n",
    "\n",
    "def create_model(neurons):\n",
    "    # create model\n",
    "    model = Sequential()\n",
    "    model.add(Dense(neurons, input_dim=input_dim, activation='relu'))\n",
    "    model.add(Dense(neurons, activation='relu'))\n",
    "    model.add(Dense(num_classes, activation='softmax'))\n",
    "    \n",
    "    # Compile model\n",
    "    sgd = SGD(lr=0.01)\n",
    "    model.compile(loss='binary_crossentropy', optimizer=sgd, metrics=['accuracy'])\n",
    "    return model\n",
    "\n",
    "#call model function in KerasClassifier\n",
    "model = KerasClassifier(build_fn=create_model, verbose=0)\n",
    "\n",
    "# define the grid search parameters\n",
    "param_grid_nn = {'neurons':[10, 20, 30],\n",
    "                   'epochs':[40, 60],\n",
    "                   'batch_size':[600, 800]}\n",
    "grid_nn = GridSearchCV(estimator=model, param_grid=param_grid_nn)\n",
    "grid_nn.fit(X_train, encoded_y_train)"
   ]
  },
  {
   "cell_type": "code",
   "execution_count": 92,
   "metadata": {},
   "outputs": [
    {
     "name": "stdout",
     "output_type": "stream",
     "text": [
      "Best parameters:  {'batch_size': 600, 'epochs': 60, 'neurons': 10}\n",
      "Best cross-validation score: 0.49\n",
      "Best test-set score: 0.805\n"
     ]
    }
   ],
   "source": [
    "# best parameter and score\n",
    "print(\"Best parameters: \", grid_nn.best_params_)\n",
    "print(\"Best cross-validation score: {:.2f}\".format(grid_nn.best_score_))\n",
    "print(\"Best test-set score: {:.3f}\".format(grid_nn.score(X_test, encoded_y_test)))"
   ]
  },
  {
   "cell_type": "code",
   "execution_count": 93,
   "metadata": {},
   "outputs": [
    {
     "name": "stdout",
     "output_type": "stream",
     "text": [
      "[[ 3026  1236]\n",
      " [ 2743 13422]]\n"
     ]
    },
    {
     "data": {
      "image/png": "[encoded data removed]",
      "text/plain": [
       "<Figure size 360x360 with 2 Axes>"
      ]
     },
     "metadata": {},
     "output_type": "display_data"
    }
   ],
   "source": [
    "# prediction on testing set\n",
    "ypred_nn = grid_nn.predict(X_test)\n",
    "\n",
    "# confusion matrix\n",
    "matrix_nn = confusion_matrix(encoded_y_test.argmax(axis=1), ypred_nn)\n",
    "print(matrix_nn)\n",
    "\n",
    "# visualization\n",
    "fig, ax = plt.subplots(figsize=(5, 5))\n",
    "sns.heatmap(matrix_nn, square=True, annot=True, cmap='YlGnBu',fmt=\"d\")\n",
    "plt.xlabel('predicted label')\n",
    "plt.ylabel('true label')\n",
    "plt.savefig('confusionmatrix6.png')"
   ]
  },
  {
   "cell_type": "code",
   "execution_count": 94,
   "metadata": {},
   "outputs": [
    {
     "name": "stdout",
     "output_type": "stream",
     "text": [
      "             precision    recall  f1-score   support\n",
      "\n",
      "          0       0.52      0.71      0.60      4262\n",
      "          1       0.92      0.83      0.87     16165\n",
      "\n",
      "avg / total       0.83      0.81      0.82     20427\n",
      "\n"
     ]
    }
   ],
   "source": [
    "# classification report\n",
    "print(classification_report(encoded_y_test.argmax(axis=1), ypred_nn))"
   ]
  },
  {
   "cell_type": "code",
   "execution_count": 95,
   "metadata": {},
   "outputs": [],
   "source": [
    "# define model\n",
    "model = Sequential()\n",
    "model.add(Dense(10, input_dim=input_dim, activation='relu'))\n",
    "model.add(Dense(10, activation='relu'))\n",
    "model.add(Dense(2, activation='softmax'))\n",
    "# compile model\n",
    "sgd = SGD(lr=0.01)\n",
    "model.compile(loss='binary_crossentropy', optimizer=sgd, metrics=['accuracy'])\n",
    "# fit model\n",
    "history = model.fit(X_train, encoded_y_train, validation_data=(X_test, encoded_y_test), epochs=60, batch_size=600, verbose=0)"
   ]
  },
  {
   "cell_type": "code",
   "execution_count": 96,
   "metadata": {},
   "outputs": [
    {
     "data": {
      "image/png": "[encoded data removed]",
      "text/plain": [
       "<Figure size 720x720 with 2 Axes>"
      ]
     },
     "metadata": {},
     "output_type": "display_data"
    }
   ],
   "source": [
    "plt.figure(figsize=(10, 10))\n",
    "\n",
    "plt.subplot(211)\n",
    "\n",
    "plt.title('Loss')\n",
    "plt.plot(history.history['loss'], label='train')\n",
    "plt.plot(history.history['val_loss'], label='test')\n",
    "plt.xlabel('Epochs')\n",
    "plt.legend()\n",
    "\n",
    "plt.subplot(212)\n",
    "\n",
    "plt.title('Accuracy')\n",
    "plt.plot(history.history['acc'], label='train')\n",
    "plt.plot(history.history['val_acc'], label='test')\n",
    "plt.xlabel('Epochs')\n",
    "plt.legend()\n",
    "plt.savefig('Loss & Accuracy2.png')"
   ]
  },
  {
   "cell_type": "code",
   "execution_count": 111,
   "metadata": {},
   "outputs": [],
   "source": [
    "# logistic regression\n",
    "logistic_probs_lite = grid_logistic_lite.predict_proba(X_test_lite)\n",
    "logistic_probs_lite = logistic_probs_lite[:,1]\n",
    "fpr1, tpr1, threshold1 = roc_curve(y_test_lite, ypred_logistic_lite)\n",
    "logistic_roc_auc_lite = auc(fpr1, tpr1)\n",
    "\n",
    "\n",
    "# random forest\n",
    "rf_probs_lite = grid_rf_lite.predict_proba(X_test_lite)\n",
    "rf_probs_lite = rf_probs_lite[:,1]\n",
    "fpr2, tpr2, threshold2 = roc_curve(y_test_lite, ypred_rf_lite)\n",
    "rf_roc_auc_lite = auc(fpr2, tpr2)\n",
    "\n",
    "\n",
    "# SVM\n",
    "svc_probs_lite = grid_svc_lite.predict_proba(X_test_lite)\n",
    "svc_probs_lite = svc_probs_lite[:,1]\n",
    "fpr3, tpr3, threshold3 = roc_curve(y_test_lite, ypred_svc_lite)\n",
    "svc_roc_auc_lite = auc(fpr3, tpr3)\n",
    "\n",
    "\n",
    "\n",
    "# neural network\n",
    "nn_probs_lite = grid_nn_lite.predict_proba(X_test_lite)\n",
    "nn_probs_lite = nn_probs_lite[:,1]\n",
    "fpr4, tpr4, threshold4 = roc_curve(y_test_lite, ypred_nn_lite)\n",
    "nn_roc_auc_lite = auc(fpr4, tpr4)"
   ]
  },
  {
   "cell_type": "code",
   "execution_count": 118,
   "metadata": {},
   "outputs": [
    {
     "data": {
      "image/png": "[encoded data removed]",
      "text/plain": [
       "<Figure size 432x288 with 1 Axes>"
      ]
     },
     "metadata": {},
     "output_type": "display_data"
    }
   ],
   "source": [
    "# plot the ROC curve\n",
    "plt.figure()\n",
    "plt.plot(fpr1, tpr1, label='Logistic Regression (area = %0.2f)' % logistic_roc_auc_lite)\n",
    "plt.plot(fpr2, tpr2, label='Random Forest Tree (area = %0.2f)' % rf_roc_auc_lite)\n",
    "plt.plot(fpr3, tpr3, label='Support Vector Machine (area = %0.2f)' % svc_roc_auc_lite)\n",
    "plt.plot(fpr4, tpr4, label='Neural Network (area = %0.2f)' % nn_roc_auc_lite)\n",
    "plt.plot([0, 1], [0, 1],'r--')\n",
    "plt.xlim([0.0, 1.0])\n",
    "plt.ylim([0.0, 1.05])\n",
    "plt.xlabel('False Positive Rate')\n",
    "plt.ylabel('True Positive Rate')\n",
    "plt.title('ROC Curve')\n",
    "plt.legend(loc=\"lower right\")\n",
    "plt.savefig('ROC Curve1.png')"
   ]
  },
  {
   "cell_type": "code",
   "execution_count": 108,
   "metadata": {},
   "outputs": [
    {
     "data": {
      "text/plain": [
       "array([[0.54182017, 0.4581799 ],\n",
       "       [0.54182017, 0.4581799 ],\n",
       "       [0.58438635, 0.41561365],\n",
       "       ...,\n",
       "       [0.46890026, 0.5310997 ],\n",
       "       [0.50513047, 0.49486956],\n",
       "       [0.52735007, 0.47264993]], dtype=float32)"
      ]
     },
     "execution_count": 108,
     "metadata": {},
     "output_type": "execute_result"
    }
   ],
   "source": [
    "grid_nn_lite.predict_proba(X_test_lite)"
   ]
  },
  {
   "cell_type": "code",
   "execution_count": 115,
   "metadata": {},
   "outputs": [],
   "source": [
    "# logistic regression\n",
    "logistic_probs = grid_logistic.predict_proba(X_test)\n",
    "logistic_probs = logistic_probs[:,1]\n",
    "fpr5, tpr5, threshold5 = roc_curve(y_test, ypred_logistic)\n",
    "logistic_roc_auc = auc(fpr5, tpr5)\n",
    "\n",
    "\n",
    "# random forest\n",
    "rf_probs = grid_rf.predict_proba(X_test)\n",
    "rf_probs = rf_probs[:,1]\n",
    "fpr6, tpr6, threshold6 = roc_curve(y_test, ypred_rf)\n",
    "rf_roc_auc = auc(fpr6, tpr6)\n",
    "\n",
    "\n",
    "# SVM\n",
    "svc_probs = grid_svc.predict_proba(X_test)\n",
    "svc_probs = svc_probs[:,1]\n",
    "fpr7, tpr7, threshold7 = roc_curve(y_test, ypred_svc)\n",
    "svc_roc_auc = auc(fpr7, tpr7)\n",
    "\n",
    "\n",
    "\n",
    "# neural network\n",
    "nn_probs = grid_nn.predict_proba(X_test)\n",
    "nn_probs = nn_probs[:,1]\n",
    "fpr8, tpr8, threshold8 = roc_curve(y_test, ypred_nn)\n",
    "nn_roc_auc = auc(fpr8, tpr8)"
   ]
  },
  {
   "cell_type": "code",
   "execution_count": 117,
   "metadata": {},
   "outputs": [
    {
     "data": {
      "image/png": "[encoded data removed]",
      "text/plain": [
       "<Figure size 432x288 with 1 Axes>"
      ]
     },
     "metadata": {},
     "output_type": "display_data"
    }
   ],
   "source": [
    "# plot the ROC curve\n",
    "plt.figure()\n",
    "plt.plot(fpr5, tpr5, label='Logistic Regression (area = %0.2f)' % logistic_roc_auc)\n",
    "plt.plot(fpr6, tpr6, label='Random Forest Tree (area = %0.2f)' % rf_roc_auc)\n",
    "plt.plot(fpr7, tpr7, label='Support Vector Machine (area = %0.2f)' % svc_roc_auc)\n",
    "plt.plot(fpr8, tpr8, label='Neural Network (area = %0.2f)' % nn_roc_auc)\n",
    "plt.plot([0, 1], [0, 1],'r--')\n",
    "plt.xlim([0.0, 1.0])\n",
    "plt.ylim([0.0, 1.05])\n",
    "plt.xlabel('False Positive Rate')\n",
    "plt.ylabel('True Positive Rate')\n",
    "plt.title('ROC Curve')\n",
    "plt.legend(loc=\"lower right\")\n",
    "plt.savefig('ROC Curve2.png')"
   ]
  },
  {
   "cell_type": "code",
   "execution_count": 126,
   "metadata": {},
   "outputs": [],
   "source": [
    "def plot_coefficients(classifier, feature_names, top_features=10):\n",
    "    coef = classifier.coef_.ravel()\n",
    "    top_positive_coefficients = np.argsort(coef)[-top_features:]\n",
    "    top_negative_coefficients = np.argsort(coef)[:top_features]\n",
    "    top_coefficients = np.hstack([top_negative_coefficients, top_positive_coefficients])\n",
    "    \n",
    "    # create plot\n",
    "    plt.figure(figsize=(20, 8))\n",
    "    colors = ['#ff2020' if c < 0 else '#0000aa' for c in coef[top_coefficients]]\n",
    "    plt.bar(np.arange(2 * top_features), coef[top_coefficients], color=colors)\n",
    "    feature_names = np.array(feature_names)\n",
    "    plt.xticks(np.arange(1, 1 + 2 * top_features), feature_names[top_coefficients], rotation=60, ha='right')\n",
    "    plt.ylabel(\"Coefficient magnitude\")\n",
    "    plt.xlabel(\"Feature\")\n",
    "    plt.savefig('SVM coeficient.png')"
   ]
  },
  {
   "cell_type": "code",
   "execution_count": 139,
   "metadata": {},
   "outputs": [],
   "source": [
    "SVM = SVC(kernel='linear', C=10, random_state=101).fit(X_test,y_test)\n",
    "svmfeature_names = X_test.columns"
   ]
  },
  {
   "cell_type": "code",
   "execution_count": 140,
   "metadata": {},
   "outputs": [
    {
     "data": {
      "image/png": "[encoded data removed]",
      "text/plain": [
       "<Figure size 1440x576 with 1 Axes>"
      ]
     },
     "metadata": {},
     "output_type": "display_data"
    }
   ],
   "source": [
    "plot_coefficients(SVM, svmfeature_names, top_features=25)"
   ]
  },
  {
   "cell_type": "code",
   "execution_count": null,
   "metadata": {},
   "outputs": [],
   "source": []
  }
 ],
 "metadata": {
  "kernelspec": {
   "display_name": "Python 3",
   "language": "python",
   "name": "python3"
  },
  "language_info": {
   "codemirror_mode": {
    "name": "ipython",
    "version": 3
   },
   "file_extension": ".py",
   "mimetype": "text/x-python",
   "name": "python",
   "nbconvert_exporter": "python",
   "pygments_lexer": "ipython3",
   "version": "3.6.5"
  }
 },
 "nbformat": 4,
 "nbformat_minor": 2
}
