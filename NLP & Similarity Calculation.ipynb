{
 "cells": [
  {
   "cell_type": "code",
   "execution_count": 38,
   "metadata": {},
   "outputs": [
    {
     "name": "stdout",
     "output_type": "stream",
     "text": [
      "(217, 3)\n"
     ]
    },
    {
     "data": {
      "text/html": [
       "<div>\n",
       "<style scoped>\n",
       "    .dataframe tbody tr th:only-of-type {\n",
       "        vertical-align: middle;\n",
       "    }\n",
       "\n",
       "    .dataframe tbody tr th {\n",
       "        vertical-align: top;\n",
       "    }\n",
       "\n",
       "    .dataframe thead th {\n",
       "        text-align: right;\n",
       "    }\n",
       "</style>\n",
       "<table border=\"1\" class=\"dataframe\">\n",
       "  <thead>\n",
       "    <tr style=\"text-align: right;\">\n",
       "      <th></th>\n",
       "      <th>Unnamed: 0</th>\n",
       "      <th>name</th>\n",
       "      <th>ingredient</th>\n",
       "    </tr>\n",
       "  </thead>\n",
       "  <tbody>\n",
       "    <tr>\n",
       "      <th>0</th>\n",
       "      <td>1</td>\n",
       "      <td>’Hello Flawless!’ Oxygen Wow Liquid Foundation</td>\n",
       "      <td>I just got this today and when I went to use i...</td>\n",
       "    </tr>\n",
       "    <tr>\n",
       "      <th>1</th>\n",
       "      <td>2</td>\n",
       "      <td>’Hello Flawless!’ Powder Foundation</td>\n",
       "      <td>Previously used this then tried a Clinique pow...</td>\n",
       "    </tr>\n",
       "    <tr>\n",
       "      <th>2</th>\n",
       "      <td>3</td>\n",
       "      <td>#FauxFilter Foundation</td>\n",
       "      <td>I purchased two shades that I thought would ma...</td>\n",
       "    </tr>\n",
       "    <tr>\n",
       "      <th>3</th>\n",
       "      <td>4</td>\n",
       "      <td>10 HR Wear Perfection Foundation</td>\n",
       "      <td>Perfect Match.......matches perfectly to my sk...</td>\n",
       "    </tr>\n",
       "    <tr>\n",
       "      <th>4</th>\n",
       "      <td>5</td>\n",
       "      <td>8 HR Mattifying Compact Foundation</td>\n",
       "      <td>I absolutely adore this foundation. It's light...</td>\n",
       "    </tr>\n",
       "  </tbody>\n",
       "</table>\n",
       "</div>"
      ],
      "text/plain": [
       "   Unnamed: 0                                            name  \\\n",
       "0           1  ’Hello Flawless!’ Oxygen Wow Liquid Foundation   \n",
       "1           2             ’Hello Flawless!’ Powder Foundation   \n",
       "2           3                          #FauxFilter Foundation   \n",
       "3           4                10 HR Wear Perfection Foundation   \n",
       "4           5              8 HR Mattifying Compact Foundation   \n",
       "\n",
       "                                          ingredient  \n",
       "0  I just got this today and when I went to use i...  \n",
       "1  Previously used this then tried a Clinique pow...  \n",
       "2  I purchased two shades that I thought would ma...  \n",
       "3  Perfect Match.......matches perfectly to my sk...  \n",
       "4  I absolutely adore this foundation. It's light...  "
      ]
     },
     "execution_count": 38,
     "metadata": {},
     "output_type": "execute_result"
    }
   ],
   "source": [
    "# import the data\n",
    "import pandas as pd\n",
    "foundation = pd.read_csv(\"foundation.csv\")\n",
    "print(foundation.shape)\n",
    "foundation.head()"
   ]
  },
  {
   "cell_type": "code",
   "execution_count": 2,
   "metadata": {},
   "outputs": [],
   "source": [
    "from sklearn.feature_extraction.text import CountVectorizer\n",
    "from sklearn.feature_extraction.text import ENGLISH_STOP_WORDS"
   ]
  },
  {
   "cell_type": "code",
   "execution_count": 4,
   "metadata": {},
   "outputs": [
    {
     "data": {
      "text/plain": [
       "array([[5, 0, 0, ..., 0, 0, 0],\n",
       "       [7, 0, 0, ..., 0, 0, 0],\n",
       "       [3, 0, 0, ..., 0, 0, 0],\n",
       "       ...,\n",
       "       [0, 0, 0, ..., 0, 0, 0],\n",
       "       [0, 0, 0, ..., 0, 0, 0],\n",
       "       [1, 2, 0, ..., 0, 0, 0]], dtype=int64)"
      ]
     },
     "execution_count": 4,
     "metadata": {},
     "output_type": "execute_result"
    }
   ],
   "source": [
    "# make it into DocumentTermMatrix\n",
    "tf_vect = CountVectorizer(lowercase=True, stop_words=\"english\") \n",
    "X = tf_vect.fit_transform(foundation['ingredient'])\n",
    "X = X.toarray()\n",
    "X"
   ]
  },
  {
   "cell_type": "code",
   "execution_count": 39,
   "metadata": {},
   "outputs": [
    {
     "data": {
      "text/plain": [
       "(217, 43697)"
      ]
     },
     "execution_count": 39,
     "metadata": {},
     "output_type": "execute_result"
    }
   ],
   "source": [
    "dtm = pd.DataFrame(data = X, index = foundation.name, columns = tf_vect.vocabulary_)\n",
    "dtm.head()\n",
    "dtm.shape"
   ]
  },
  {
   "cell_type": "code",
   "execution_count": 6,
   "metadata": {},
   "outputs": [],
   "source": [
    "# Dimension Reduction\n",
    "from sklearn.decomposition import TruncatedSVD\n",
    "svd = TruncatedSVD()\n",
    "Z = svd.fit_transform(X)"
   ]
  },
  {
   "cell_type": "code",
   "execution_count": 9,
   "metadata": {},
   "outputs": [
    {
     "data": {
      "text/html": [
       "<div>\n",
       "<style scoped>\n",
       "    .dataframe tbody tr th:only-of-type {\n",
       "        vertical-align: middle;\n",
       "    }\n",
       "\n",
       "    .dataframe tbody tr th {\n",
       "        vertical-align: top;\n",
       "    }\n",
       "\n",
       "    .dataframe thead th {\n",
       "        text-align: right;\n",
       "    }\n",
       "</style>\n",
       "<table border=\"1\" class=\"dataframe\">\n",
       "  <thead>\n",
       "    <tr style=\"text-align: right;\">\n",
       "      <th></th>\n",
       "      <th>name</th>\n",
       "      <th>SVD1</th>\n",
       "      <th>SVD2</th>\n",
       "    </tr>\n",
       "  </thead>\n",
       "  <tbody>\n",
       "    <tr>\n",
       "      <th>0</th>\n",
       "      <td>’Hello Flawless!’ Oxygen Wow Liquid Foundation</td>\n",
       "      <td>3912.995322</td>\n",
       "      <td>-33.534149</td>\n",
       "    </tr>\n",
       "    <tr>\n",
       "      <th>1</th>\n",
       "      <td>’Hello Flawless!’ Powder Foundation</td>\n",
       "      <td>4736.539946</td>\n",
       "      <td>1486.429862</td>\n",
       "    </tr>\n",
       "    <tr>\n",
       "      <th>2</th>\n",
       "      <td>#FauxFilter Foundation</td>\n",
       "      <td>4445.494099</td>\n",
       "      <td>-839.743679</td>\n",
       "    </tr>\n",
       "    <tr>\n",
       "      <th>3</th>\n",
       "      <td>10 HR Wear Perfection Foundation</td>\n",
       "      <td>5547.132895</td>\n",
       "      <td>-556.698862</td>\n",
       "    </tr>\n",
       "    <tr>\n",
       "      <th>4</th>\n",
       "      <td>8 HR Mattifying Compact Foundation</td>\n",
       "      <td>1328.655802</td>\n",
       "      <td>230.871830</td>\n",
       "    </tr>\n",
       "  </tbody>\n",
       "</table>\n",
       "</div>"
      ],
      "text/plain": [
       "                                             name         SVD1         SVD2\n",
       "0  ’Hello Flawless!’ Oxygen Wow Liquid Foundation  3912.995322   -33.534149\n",
       "1             ’Hello Flawless!’ Powder Foundation  4736.539946  1486.429862\n",
       "2                          #FauxFilter Foundation  4445.494099  -839.743679\n",
       "3                10 HR Wear Perfection Foundation  5547.132895  -556.698862\n",
       "4              8 HR Mattifying Compact Foundation  1328.655802   230.871830"
      ]
     },
     "execution_count": 9,
     "metadata": {},
     "output_type": "execute_result"
    }
   ],
   "source": [
    "Z_df = pd.DataFrame(data = Z, columns = ['SVD1', 'SVD2'])\n",
    "cosm_svd = pd.concat([foundation.iloc[:, 1], Z_df], axis = 1)\n",
    "cosm_svd.head()"
   ]
  },
  {
   "cell_type": "code",
   "execution_count": 12,
   "metadata": {},
   "outputs": [],
   "source": [
    "cosm_svd.to_csv('svd.csv')"
   ]
  },
  {
   "cell_type": "code",
   "execution_count": 18,
   "metadata": {},
   "outputs": [
    {
     "data": {
      "text/html": [
       "<div>\n",
       "<style scoped>\n",
       "    .dataframe tbody tr th:only-of-type {\n",
       "        vertical-align: middle;\n",
       "    }\n",
       "\n",
       "    .dataframe tbody tr th {\n",
       "        vertical-align: top;\n",
       "    }\n",
       "\n",
       "    .dataframe thead th {\n",
       "        text-align: right;\n",
       "    }\n",
       "</style>\n",
       "<table border=\"1\" class=\"dataframe\">\n",
       "  <thead>\n",
       "    <tr style=\"text-align: right;\">\n",
       "      <th></th>\n",
       "      <th>Unnamed: 0</th>\n",
       "      <th>name</th>\n",
       "      <th>brand</th>\n",
       "      <th>price</th>\n",
       "      <th>SVD1</th>\n",
       "      <th>SVD2</th>\n",
       "      <th>rating</th>\n",
       "    </tr>\n",
       "  </thead>\n",
       "  <tbody>\n",
       "    <tr>\n",
       "      <th>0</th>\n",
       "      <td>1</td>\n",
       "      <td>’Hello Flawless!’ Oxygen Wow Liquid Foundation</td>\n",
       "      <td>Benefit Cosmetics</td>\n",
       "      <td>36.0</td>\n",
       "      <td>3912.995322</td>\n",
       "      <td>-33.534149</td>\n",
       "      <td>4</td>\n",
       "    </tr>\n",
       "    <tr>\n",
       "      <th>1</th>\n",
       "      <td>2</td>\n",
       "      <td>’Hello Flawless!’ Powder Foundation</td>\n",
       "      <td>Benefit Cosmetics</td>\n",
       "      <td>34.0</td>\n",
       "      <td>4736.539946</td>\n",
       "      <td>1486.429862</td>\n",
       "      <td>4</td>\n",
       "    </tr>\n",
       "    <tr>\n",
       "      <th>2</th>\n",
       "      <td>3</td>\n",
       "      <td>#FauxFilter Foundation</td>\n",
       "      <td>HUDA BEAUTY</td>\n",
       "      <td>40.0</td>\n",
       "      <td>4445.494099</td>\n",
       "      <td>-839.743679</td>\n",
       "      <td>4</td>\n",
       "    </tr>\n",
       "    <tr>\n",
       "      <th>3</th>\n",
       "      <td>4</td>\n",
       "      <td>10 HR Wear Perfection Foundation</td>\n",
       "      <td>SEPHORA COLLECTION</td>\n",
       "      <td>20.0</td>\n",
       "      <td>5547.132895</td>\n",
       "      <td>-556.698862</td>\n",
       "      <td>4</td>\n",
       "    </tr>\n",
       "    <tr>\n",
       "      <th>4</th>\n",
       "      <td>5</td>\n",
       "      <td>8 HR Mattifying Compact Foundation</td>\n",
       "      <td>SEPHORA COLLECTION</td>\n",
       "      <td>20.0</td>\n",
       "      <td>1328.655802</td>\n",
       "      <td>230.871830</td>\n",
       "      <td>4</td>\n",
       "    </tr>\n",
       "  </tbody>\n",
       "</table>\n",
       "</div>"
      ],
      "text/plain": [
       "   Unnamed: 0                                            name  \\\n",
       "0           1  ’Hello Flawless!’ Oxygen Wow Liquid Foundation   \n",
       "1           2             ’Hello Flawless!’ Powder Foundation   \n",
       "2           3                          #FauxFilter Foundation   \n",
       "3           4                10 HR Wear Perfection Foundation   \n",
       "4           5              8 HR Mattifying Compact Foundation   \n",
       "\n",
       "                brand  price         SVD1         SVD2  rating  \n",
       "0   Benefit Cosmetics   36.0  3912.995322   -33.534149       4  \n",
       "1   Benefit Cosmetics   34.0  4736.539946  1486.429862       4  \n",
       "2         HUDA BEAUTY   40.0  4445.494099  -839.743679       4  \n",
       "3  SEPHORA COLLECTION   20.0  5547.132895  -556.698862       4  \n",
       "4  SEPHORA COLLECTION   20.0  1328.655802   230.871830       4  "
      ]
     },
     "execution_count": 18,
     "metadata": {},
     "output_type": "execute_result"
    }
   ],
   "source": [
    "# read in the final data\n",
    "final_svd = pd.read_csv(\"final svd.csv\")\n",
    "final_svd.head()"
   ]
  },
  {
   "cell_type": "code",
   "execution_count": 15,
   "metadata": {},
   "outputs": [],
   "source": [
    "from bokeh.plotting import figure, ColumnDataSource\n",
    "from bokeh.io import output_file, show\n",
    "from bokeh.models import HoverTool"
   ]
  },
  {
   "cell_type": "code",
   "execution_count": 16,
   "metadata": {},
   "outputs": [],
   "source": [
    "# use bokeh to visualize the similarity\n",
    "source = ColumnDataSource(final_svd)\n",
    "\n",
    "p = figure()\n",
    "p.circle(x = 'SVD1', y = 'SVD2', source = source, size = 8, color = 'pink')\n",
    "\n",
    "hover = HoverTool(tooltips = [\n",
    "        ('Item', '@name'),\n",
    "        ('brand', '@brand'),\n",
    "        ('Price', '$ @price'),\n",
    "        ('Rating', '@rating')])\n",
    "\n",
    "p.add_tools(hover)\n",
    "\n",
    "show(p)"
   ]
  },
  {
   "cell_type": "code",
   "execution_count": 19,
   "metadata": {},
   "outputs": [],
   "source": [
    "from sklearn.metrics.pairwise import cosine_similarity"
   ]
  },
  {
   "cell_type": "code",
   "execution_count": 35,
   "metadata": {},
   "outputs": [
    {
     "name": "stdout",
     "output_type": "stream",
     "text": [
      "Int64Index([99], dtype='int64')\n"
     ]
    }
   ],
   "source": [
    "# find the index of my favorite foundation\n",
    "myindex = final_svd.index[final_svd.name.str.contains('Luminous Silk Foundation')]\n",
    "print(myindex)"
   ]
  },
  {
   "cell_type": "code",
   "execution_count": 34,
   "metadata": {},
   "outputs": [
    {
     "name": "stderr",
     "output_type": "stream",
     "text": [
      "/anaconda3/lib/python3.6/site-packages/ipykernel_launcher.py:4: SettingWithCopyWarning: \n",
      "A value is trying to be set on a copy of a slice from a DataFrame\n",
      "\n",
      "See the caveats in the documentation: http://pandas.pydata.org/pandas-docs/stable/indexing.html#indexing-view-versus-copy\n",
      "  after removing the cwd from sys.path.\n"
     ]
    }
   ],
   "source": [
    "# calcualte the cosine similarity\n",
    "from sklearn.metrics.pairwise import cosine_similarity\n",
    "final_svd['cos_sim'] = 0.0\n",
    "for i in range(len(X)):\n",
    "    final_svd['cos_sim'][i] = cosine_similarity([X[99]], [X[i]])"
   ]
  },
  {
   "cell_type": "code",
   "execution_count": 36,
   "metadata": {
    "scrolled": true
   },
   "outputs": [
    {
     "data": {
      "text/html": [
       "<div>\n",
       "<style scoped>\n",
       "    .dataframe tbody tr th:only-of-type {\n",
       "        vertical-align: middle;\n",
       "    }\n",
       "\n",
       "    .dataframe tbody tr th {\n",
       "        vertical-align: top;\n",
       "    }\n",
       "\n",
       "    .dataframe thead th {\n",
       "        text-align: right;\n",
       "    }\n",
       "</style>\n",
       "<table border=\"1\" class=\"dataframe\">\n",
       "  <thead>\n",
       "    <tr style=\"text-align: right;\">\n",
       "      <th></th>\n",
       "      <th>brand</th>\n",
       "      <th>name</th>\n",
       "      <th>cos_sim</th>\n",
       "    </tr>\n",
       "  </thead>\n",
       "  <tbody>\n",
       "    <tr>\n",
       "      <th>99</th>\n",
       "      <td>Giorgio Armani Beauty</td>\n",
       "      <td>Luminous Silk Foundation</td>\n",
       "      <td>1.000000</td>\n",
       "    </tr>\n",
       "    <tr>\n",
       "      <th>34</th>\n",
       "      <td>Too Faced</td>\n",
       "      <td>Born This Way Foundation</td>\n",
       "      <td>0.980288</td>\n",
       "    </tr>\n",
       "    <tr>\n",
       "      <th>120</th>\n",
       "      <td>Urban Decay</td>\n",
       "      <td>Naked Skin Weightless Ultra Definition Liquid ...</td>\n",
       "      <td>0.977903</td>\n",
       "    </tr>\n",
       "    <tr>\n",
       "      <th>198</th>\n",
       "      <td>MAKE UP FOR EVER</td>\n",
       "      <td>Ultra HD Invisible Cover Foundation</td>\n",
       "      <td>0.977609</td>\n",
       "    </tr>\n",
       "    <tr>\n",
       "      <th>56</th>\n",
       "      <td>Dior</td>\n",
       "      <td>Diorskin Forever Perfect Foundation Broad Spec...</td>\n",
       "      <td>0.976383</td>\n",
       "    </tr>\n",
       "    <tr>\n",
       "      <th>146</th>\n",
       "      <td>NARS</td>\n",
       "      <td>Sheer Glow Foundation</td>\n",
       "      <td>0.976049</td>\n",
       "    </tr>\n",
       "  </tbody>\n",
       "</table>\n",
       "</div>"
      ],
      "text/plain": [
       "                     brand                                               name  \\\n",
       "99   Giorgio Armani Beauty                           Luminous Silk Foundation   \n",
       "34               Too Faced                           Born This Way Foundation   \n",
       "120            Urban Decay  Naked Skin Weightless Ultra Definition Liquid ...   \n",
       "198       MAKE UP FOR EVER                Ultra HD Invisible Cover Foundation   \n",
       "56                    Dior  Diorskin Forever Perfect Foundation Broad Spec...   \n",
       "146                   NARS                              Sheer Glow Foundation   \n",
       "\n",
       "      cos_sim  \n",
       "99   1.000000  \n",
       "34   0.980288  \n",
       "120  0.977903  \n",
       "198  0.977609  \n",
       "56   0.976383  \n",
       "146  0.976049  "
      ]
     },
     "execution_count": 36,
     "metadata": {},
     "output_type": "execute_result"
    }
   ],
   "source": [
    "# sorting by the similarity\n",
    "final_svd = final_svd.sort_values('cos_sim', ascending=False)\n",
    "final_svd[['brand', 'name', 'cos_sim']].head(6)"
   ]
  }
 ],
 "metadata": {
  "kernelspec": {
   "display_name": "Python 3",
   "language": "python",
   "name": "python3"
  },
  "language_info": {
   "codemirror_mode": {
    "name": "ipython",
    "version": 3
   },
   "file_extension": ".py",
   "mimetype": "text/x-python",
   "name": "python",
   "nbconvert_exporter": "python",
   "pygments_lexer": "ipython3",
   "version": "3.6.5"
  }
 },
 "nbformat": 4,
 "nbformat_minor": 2
}
